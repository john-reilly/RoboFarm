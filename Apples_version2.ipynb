{
  "nbformat": 4,
  "nbformat_minor": 0,
  "metadata": {
    "colab": {
      "name": "Apples_version2.ipynb",
      "provenance": [],
      "collapsed_sections": [],
      "include_colab_link": true
    },
    "kernelspec": {
      "name": "python3",
      "display_name": "Python 3"
    },
    "accelerator": "TPU"
  },
  "cells": [
    {
      "cell_type": "markdown",
      "metadata": {
        "id": "view-in-github",
        "colab_type": "text"
      },
      "source": [
        "<a href=\"https://colab.research.google.com/github/john-reilly/RoboFarm/blob/master/Apples_version2.ipynb\" target=\"_parent\"><img src=\"https://colab.research.google.com/assets/colab-badge.svg\" alt=\"Open In Colab\"/></a>"
      ]
    },
    {
      "cell_type": "code",
      "metadata": {
        "id": "J0moYo8MBqib",
        "colab_type": "code",
        "outputId": "cec56178-3c54-4317-f3a1-265c2c634daf",
        "colab": {
          "base_uri": "https://localhost:8080/",
          "height": 126
        }
      },
      "source": [
        "from google.colab import drive\n",
        "\n",
        "drive.mount('/content/gdrive')\n"
      ],
      "execution_count": 0,
      "outputs": [
        {
          "output_type": "stream",
          "text": [
            "Go to this URL in a browser: https://accounts.google.com/o/oauth2/auth?client_id=947318989803-6bn6qk8qdgf4n4g3pfee6491hc0brc4i.apps.googleusercontent.com&redirect_uri=urn%3Aietf%3Awg%3Aoauth%3A2.0%3Aoob&scope=email%20https%3A%2F%2Fwww.googleapis.com%2Fauth%2Fdocs.test%20https%3A%2F%2Fwww.googleapis.com%2Fauth%2Fdrive%20https%3A%2F%2Fwww.googleapis.com%2Fauth%2Fdrive.photos.readonly%20https%3A%2F%2Fwww.googleapis.com%2Fauth%2Fpeopleapi.readonly&response_type=code\n",
            "\n",
            "Enter your authorization code:\n",
            "··········\n",
            "Mounted at /content/gdrive\n"
          ],
          "name": "stdout"
        }
      ]
    },
    {
      "cell_type": "code",
      "metadata": {
        "id": "WQYt_jqjDIlN",
        "colab_type": "code",
        "colab": {}
      },
      "source": [
        "#if google colab base_dir is one thing else another\n",
        "base_dir = '/content/gdrive/My Drive/'"
      ],
      "execution_count": 0,
      "outputs": []
    },
    {
      "cell_type": "code",
      "metadata": {
        "id": "ZUgcIII8DKQo",
        "colab_type": "code",
        "colab": {}
      },
      "source": [
        "#REQUIREMENTS \n",
        "!Flask==0.11.1\n",
        "!attrdict==2.0.0\n",
        "!eventlet==0.19.0\n",
        "!numpy==1.13.1\n",
        "!scipy==0.19.1\n",
        "!keras==2.0.8\n",
        "!tensorflow==1.3.0\n",
        "!h5py==2.6.0\n",
        "!pandas==0.24.2\n",
        "!Pillow==2.8.0"
      ],
      "execution_count": 0,
      "outputs": []
    },
    {
      "cell_type": "code",
      "metadata": {
        "id": "aWhMn0a9DVFG",
        "colab_type": "code",
        "colab": {}
      },
      "source": [
        "import os\n",
        "import random\n",
        "import time\n",
        "\n",
        "import tensorflow as tf\n",
        "import numpy as np\n",
        "from PIL import Image, ImageOps\n",
        "\n",
        "\n",
        "class ObjectDetector:\n",
        "\n",
        "    def __init__(self,location_path = base_dir, graph_filename = 'frozen_inference_graph.pb' ):       \n",
        "        self.detection_graph = tf.Graph()\n",
        "        with self.detection_graph.as_default():\n",
        "            od_graph_def = tf.GraphDef()\n",
        "            try:\n",
        "                with tf.gfile.GFile( location_path + graph_filename, 'rb') as fid:\n",
        "                    serialized_graph = fid.read()\n",
        "                    od_graph_def.ParseFromString(serialized_graph)\n",
        "                    tf.import_graph_def(od_graph_def, name='')\n",
        "                    self.session = tf.Session(graph=self.detection_graph)\n",
        "            except Exception as e:\n",
        "                print(e)\n",
        "                exit()\n",
        "\n",
        "\n",
        "    def run_inference_for_single_image(self, image, show_stats = True ):\n",
        "        # Get handles to input and output tensors\n",
        "        ops = self.detection_graph.get_operations()\n",
        "        all_tensor_names = {output.name for op in ops for output in op.outputs}\n",
        "        tensor_dict = {}\n",
        "        for key in ['num_detections', 'detection_boxes', 'detection_scores', 'detection_classes']:\n",
        "            tensor_name = key + ':0'\n",
        "            if tensor_name in all_tensor_names:\n",
        "                tensor_dict[key] = self.detection_graph.get_tensor_by_name(tensor_name)\n",
        "        image_tensor = self.detection_graph.get_tensor_by_name('image_tensor:0') #indentation?\n",
        "\n",
        "        # Run inference\n",
        "        start = time.time()\n",
        "        output_dict = self.session.run(tensor_dict, feed_dict={image_tensor: np.expand_dims(image, 0)})\n",
        "        elapsed = time.time() - start\n",
        "        #print('inference took:', elapsed, ' seconds') \n",
        "        \n",
        "        # all outputs are float32 numpy arrays, so convert types as appropriate\n",
        "        output_dict['num_detections'] = int(output_dict['num_detections'][0])\n",
        "        output_dict['detection_classes'] = output_dict['detection_classes'][0].astype(np.uint8)\n",
        "        output_dict['detection_boxes'] = output_dict['detection_boxes'][0]\n",
        "        output_dict['detection_scores'] = output_dict['detection_scores'][0]\n",
        "\n",
        "        if show_stats == True:\n",
        "          print('inference took:', elapsed, ' seconds') \n",
        "          print(\"num_detections:\" , output_dict['num_detections'])\n",
        "          print(\"Detection Classes: \" , output_dict['detection_classes'])\n",
        "          print(\"Detection Scores: \" , output_dict['detection_scores'])\n",
        "\n",
        "        return output_dict\n",
        "\n",
        "    def overlay_bounding_boxes(self, image, output_dict,detection_class, probability_level, draw_boxes = False):\n",
        "        classes = output_dict['detection_classes']\n",
        "        boxes = output_dict['detection_boxes']\n",
        "        scores = output_dict['detection_scores']\n",
        "\n",
        "        height, width, _ = image.shape\n",
        "\n",
        "        tf_boxes = []\n",
        "        output_images = []\n",
        "        for i in range(len(boxes)):\n",
        "            confidence = float(scores[i])\n",
        "            ymin, xmin, ymax, xmax = tuple(boxes[i].tolist())\n",
        "            ymin = int(ymin * height)\n",
        "            ymax = int(ymax * height)\n",
        "            xmin = int(xmin * width)\n",
        "            xmax = int(xmax * width)\n",
        "            box_width = xmax - xmin\n",
        "            box_height = ymax - ymin\n",
        "            box_ratio = float(box_height) / box_width \n",
        "            #filter criteria\n",
        "            if confidence >= probability_level and \\\n",
        "              classes[i] == detection_class :\n",
        "                # also possible and \\  #box_ratio >= 0.75     #box_width > 21   #box_height > 20\n",
        "                #draw rectanlge around object having this here interferes with later on as cropped images have rectanlge over writes\n",
        "                if draw_boxes:\n",
        "                  cv2.rectangle(image, (xmin,ymin) , (xmax, ymax) , (255,0,0) ,2)\n",
        "                #record object data\n",
        "                tf_boxes.append(boxes[i])\n",
        "                #crop object out of image for further processing\n",
        "                crop_image = image[ymin:ymax, xmin:xmax]\n",
        "                crop_output_image = Image.fromarray(crop_image)\n",
        "                output_images.append(crop_output_image)\n",
        "                \n",
        "        return image, tf_boxes , output_images# <------your version might not need to return all 3\n",
        "\n"
      ],
      "execution_count": 0,
      "outputs": []
    },
    {
      "cell_type": "code",
      "metadata": {
        "id": "P1nAZbQv4GT-",
        "colab_type": "code",
        "outputId": "0c33a7a3-eb57-4cec-8ac1-5c30591a18bb",
        "colab": {
          "base_uri": "https://localhost:8080/",
          "height": 806
        }
      },
      "source": [
        "\n",
        "from google.colab.patches import cv2_imshow\n",
        "from moviepy.editor import VideoFileClip\n",
        "from IPython.display import HTML #from my lane line project\n",
        "import cv2\n",
        "\n",
        "clip1 = VideoFileClip(base_dir + 'APPLE_VIDEO.MP4')\n",
        "frame = clip1.get_frame(19)#3) #19\n",
        "\n",
        "#Before processing\n",
        "#frame = cv2.cvtColor(frame, cv2.COLOR_BGR2RGB)\n",
        "cv2_imshow( cv2.resize(frame, None, fx = 0.25 , fy = 0.25, interpolation = cv2.INTER_CUBIC) )\n",
        "\n",
        "\n",
        "my_detector = ObjectDetector(base_dir , 'frozen_inference_graph.pb')\n",
        "output_dict = my_detector.run_inference_for_single_image(frame, show_stats = True)# False) # True)\n",
        "frame = cv2.cvtColor(frame, cv2.COLOR_BGR2RGB)#is rgb getting screwed up?\n",
        "final_image, object_data, object_images  = my_detector.overlay_bounding_boxes( frame, output_dict,53, 0.80, draw_boxes = True)#False ) #True)\n",
        "#After processing\n",
        "#cv2_imshow(final_image)\n",
        "cv2_imshow( cv2.resize(final_image, None, fx = 0.25 , fy = 0.25, interpolation = cv2.INTER_CUBIC) )\n"
      ],
      "execution_count": 0,
      "outputs": [
        {
          "output_type": "display_data",
          "data": {
            "image/png": "[encoded data removed]",
            "text/plain": [
              "<PIL.Image.Image image mode=RGB size=320x180 at 0x7FAD43405860>"
            ]
          },
          "metadata": {
            "tags": []
          }
        },
        {
          "output_type": "stream",
          "text": [
            "inference took: 5.016517400741577  seconds\n",
            "num_detections: 100\n",
            "Detection Classes:  [53 53 53 53 53 53 53 53 53 53 53 53 53 53 55 53 53 56 53 16 53 37 53 53\n",
            " 37 53 53 56 53 56 53 56 53 56 56 56 53 56 53 53 53 56 53 56 56 56 56 56\n",
            " 56 53 56 56 56 56 53 56 56 53 56 53 56 56 56 56 53 56 53 56 56 56 56 56\n",
            " 56 56 56 53 56 56 56 56 53 56 56 56 53 53 53 56 53 56 53 56 56 56 56 53\n",
            " 56 56 56 56]\n",
            "Detection Scores:  [0.9486543  0.36964118 0.23162872 0.22308162 0.19798157 0.19271055\n",
            " 0.13437158 0.12559202 0.11918971 0.11855003 0.11543727 0.10813445\n",
            " 0.10616213 0.10538718 0.0977281  0.09762129 0.09584737 0.0925009\n",
            " 0.09211206 0.08816451 0.08651966 0.08648583 0.08639628 0.08523253\n",
            " 0.08368209 0.08155513 0.08137435 0.08126152 0.08096552 0.0781801\n",
            " 0.07725859 0.07651231 0.07630458 0.07622981 0.07616314 0.07542837\n",
            " 0.07515967 0.07393935 0.07013512 0.06993729 0.069534   0.06897652\n",
            " 0.06857097 0.06788659 0.06781188 0.0677689  0.06733987 0.06654024\n",
            " 0.06597689 0.06580704 0.06577411 0.06576103 0.06522867 0.06506202\n",
            " 0.06490904 0.06481355 0.06472692 0.06444806 0.06419578 0.06384483\n",
            " 0.0638344  0.06361359 0.06294328 0.06289673 0.06263164 0.06253821\n",
            " 0.06210437 0.06160015 0.0613105  0.0612357  0.06099433 0.06034422\n",
            " 0.06021565 0.06004426 0.05939835 0.05931777 0.05928266 0.0592753\n",
            " 0.05924404 0.05907118 0.05875739 0.05845994 0.0584392  0.05826941\n",
            " 0.05806062 0.05805025 0.05759358 0.05736727 0.05712074 0.05680135\n",
            " 0.05615154 0.05615103 0.05602041 0.0559586  0.05553588 0.05542833\n",
            " 0.05531588 0.05512437 0.05510569 0.05468246]\n"
          ],
          "name": "stdout"
        },
        {
          "output_type": "display_data",
          "data": {
            "image/png": "[encoded data removed]",
            "text/plain": [
              "<PIL.Image.Image image mode=RGB size=320x180 at 0x7FAD2D9E8630>"
            ]
          },
          "metadata": {
            "tags": []
          }
        }
      ]
    },
    {
      "cell_type": "code",
      "metadata": {
        "id": "VUTTCh_fZjts",
        "colab_type": "code",
        "outputId": "93af66a3-ac03-4f84-c81a-cf07ebda9a05",
        "colab": {
          "base_uri": "https://localhost:8080/",
          "height": 1000
        }
      },
      "source": [
        "#TRAIN.py\n",
        "# Load the data\n",
        "\n",
        "import gzip\n",
        "import re\n",
        "import os\n",
        "\n",
        "import numpy as np\n",
        "import pandas as pd\n",
        "from time import time\n",
        "from PIL import Image, ImageOps\n",
        "\n",
        "from sklearn.model_selection import train_test_split\n",
        "import tensorflow as tf\n",
        "import keras\n",
        "import keras.layers as layers\n",
        "from keras.models import Sequential\n",
        "from keras.preprocessing.image import ImageDataGenerator\n",
        "from keras.utils.np_utils import to_categorical\n",
        "from keras.callbacks import TensorBoard\n",
        "from keras.preprocessing.image import array_to_img, img_to_array, load_img\n",
        "from keras.backend import tensorflow_backend as ktf\n",
        "from pathlib import Path\n",
        "\n",
        "from os import listdir\n",
        "from os.path import isfile, join\n",
        "\n",
        "\n",
        "apple_type = ['ripe', 'not_ripe']\n",
        "apple_type_categories = [[1,0], [0,1]]\n",
        "\n",
        "RESIZED_DIR = base_dir + 'data/' + 'Ripe_not_ripe/' + 'images_resized/'\n",
        "\n",
        "def read_images(images_path):\n",
        "    labels = []\n",
        "    features = []\n",
        "    for root, dirs, files in os.walk(images_path, topdown=False):\n",
        "        \n",
        "        path = os.path.dirname(images_path + 'images_resized/')\n",
        "        Path(path).mkdir(exist_ok=True)\n",
        "        \n",
        "        for filename in files:\n",
        "            added = False\n",
        "        \n",
        "            for index, color in enumerate(apple_type):              \n",
        "                labels.append(apple_type_categories[index])\n",
        "                print(images_path + apple_type[index]+ '/' + filename)\n",
        "                img = load_img(images_path + apple_type[index]+ '/' + filename)\n",
        "                img = crop_image(img)\n",
        "                img.save('{}{}{}'.format(RESIZED_DIR,  apple_type[index]+ '/' ,filename), 'JPEG')\n",
        "                x = img_to_array(img)  # this is a Numpy array with shape (3, 150, 150) \n",
        "                features.append(x)\n",
        "                added = True\n",
        "                break\n",
        "            if not added:\n",
        "                print('Error invalid filename:', filename)\n",
        "\n",
        "    return np.array(features), np.array(labels)\n",
        "\n",
        "def preprocess_images(images_path):\n",
        "  \n",
        "    if not os.path.exists(images_path + 'preprocessed/' + 'ripe/' ):\n",
        "      os.makedirs(images_path + 'preprocessed/' + 'ripe/' )\n",
        "  \n",
        "    for root, dirs, files in os.walk(images_path+'ripe/', topdown=True):    \n",
        "      for filename in files:\n",
        "        img = load_img(images_path + 'ripe/' + filename)\n",
        "        img = crop_image(img)\n",
        "        img.save(images_path + 'preprocessed/' + 'ripe/' + filename)\n",
        "\n",
        "\n",
        "    if not os.path.exists(images_path + 'preprocessed/' + 'not_ripe/' ):\n",
        "      os.mkdir(images_path + 'preprocessed/' + 'not_ripe/' )\n",
        "\n",
        "    for root, dirs, files in os.walk(images_path+'not_ripe/', topdown=True):    \n",
        "      for filename in files:\n",
        "        img = load_img(images_path + 'not_ripe/' + filename)\n",
        "        img = crop_image(img)\n",
        "        img.save(images_path + 'preprocessed/' + 'not_ripe/' + filename)\n",
        "\n",
        "\n",
        "def load_prepared_images(images_path):\n",
        "  \n",
        "  features = []\n",
        "  labels = []\n",
        "\n",
        "  for root, dirs, files in os.walk(images_path+'ripe/', topdown=True):    \n",
        "    for filename in files:\n",
        "      img = load_img(images_path + 'ripe/' + filename)\n",
        "      x = img_to_array(img)  # this is a Numpy array with shape (3, 150, 150) #john 32*32 ?\n",
        "      features.append(x)\n",
        "      labels.append(apple_type_categories[0])\n",
        "\n",
        "\n",
        "  for root, dirs, files in os.walk(images_path+'not_ripe/', topdown=True):    \n",
        "    for filename in files:\n",
        "      img = load_img(images_path + 'not_ripe/' + filename)\n",
        "      x = img_to_array(img)  # this is a Numpy array with shape (3, 150, 150) #john 32*32 ?\n",
        "      features.append(x)\n",
        "      labels.append(apple_type_categories[1])\n",
        "     \n",
        "\n",
        "  return np.array(features), np.array(labels)\n",
        "\n",
        "\n",
        "def remove_ext(filename):\n",
        "    return re.sub(r'\\.png|\\.jpeg|\\.jpg', '', filename, re.IGNORECASE)\n",
        "\n",
        "def crop_image(img):\n",
        "    img.thumbnail((32, 32), Image.ANTIALIAS)\n",
        "    width, height = img.size\n",
        "    delta_w = 32 - width\n",
        "    delta_h = 32 - height\n",
        "    padding = (delta_w // 2, delta_h // 2, delta_w - (delta_w // 2), delta_h - (delta_h // 2))\n",
        "    img = ImageOps.expand(img, padding, fill=0)  # fill with black dots\n",
        "    return img\n",
        "\n",
        "\n",
        "\n",
        "features, labels = load_prepared_images(base_dir + 'data/' + 'Ripe_not_ripe/' + 'preprocessed/')\n",
        "\n",
        "train = {}\n",
        "test = {}\n",
        "\n",
        "train['features'], test['features'], train['labels'], test['labels'] = train_test_split(features, labels, test_size=0.05)\n",
        "\n",
        "# explore the data\n",
        "\n",
        "print('# of training images:', train['features'].shape[0])\n",
        "print('# of test images:', test['features'].shape[0])\n",
        "\n",
        "# plot training data\n",
        "train_labels_count = np.unique(train['labels'], return_counts=True)\n",
        "dataframe_train_labels = pd.DataFrame({'Label':train_labels_count[0], 'Count':train_labels_count[1]})\n",
        "print(dataframe_train_labels)\n",
        "\n",
        "# Split training data into training and validation\n",
        "validation = {}\n",
        "train['features'], validation['features'], train['labels'], validation['labels'] = train_test_split(train['features'], train['labels'], test_size=0.2, random_state=0)\n",
        "\n",
        "print('# of training images:', train['features'].shape[0])\n",
        "print('# of validation images:', validation['features'].shape[0])\n",
        "\n",
        "print(features.shape)\n",
        "print(labels.shape)\n",
        "\n",
        "print(\"Updated Image Shape: {}\".format(train['features'][0].shape))\n",
        "\n",
        "model = Sequential()\n",
        "\n",
        "model.add(layers.Lambda(lambda x: x/255.0 - 0.5, input_shape=(32,32,3))) # added\n",
        "\n",
        "model.add(layers.Conv2D(filters=6, kernel_size=(3, 3), activation='relu', input_shape=(32,32,3)))\n",
        "model.add(layers.AveragePooling2D())\n",
        "\n",
        "model.add(layers.Conv2D(filters=16, kernel_size=(3, 3), activation='relu'))\n",
        "model.add(layers.AveragePooling2D())\n",
        "\n",
        "model.add(layers.Flatten())\n",
        "\n",
        "model.add(layers.Dense(units=120, activation='relu'))\n",
        "\n",
        "model.add(layers.Dense(units=84, activation='relu'))\n",
        "\n",
        "model.add(layers.Dense(units=2, activation = 'softmax')) #for 2 categories\n",
        "\n",
        "model.summary()\n",
        "\n",
        "model.compile(loss=keras.losses.categorical_crossentropy, optimizer=keras.optimizers.Adam(), metrics=['accuracy'])\n",
        "\n",
        "tensorboard = TensorBoard(log_dir=\"logs/{}\".format(time()))\n",
        "model.fit(train['features'], train['labels'], epochs=52, validation_split=0.3, shuffle=True, callbacks=[tensorboard])\n",
        "\n",
        "\n",
        "score = model.evaluate(test['features'], test['labels'])\n",
        "print('Test loss:', score[0])\n",
        "print('Test accuracy:', score[1])\n",
        "\n",
        "model.save(base_dir + 'apple_lenet_model.h5')"
      ],
      "execution_count": 0,
      "outputs": [
        {
          "output_type": "stream",
          "text": [
            "# of training images: 243\n",
            "# of test images: 13\n",
            "   Label  Count\n",
            "0      0    243\n",
            "1      1    243\n",
            "# of training images: 194\n",
            "# of validation images: 49\n",
            "(256, 32, 32, 3)\n",
            "(256, 2)\n",
            "Updated Image Shape: (32, 32, 3)\n",
            "Model: \"sequential_2\"\n",
            "_________________________________________________________________\n",
            "Layer (type)                 Output Shape              Param #   \n",
            "=================================================================\n",
            "lambda_2 (Lambda)            (None, 32, 32, 3)         0         \n",
            "_________________________________________________________________\n",
            "conv2d_3 (Conv2D)            (None, 30, 30, 6)         168       \n",
            "_________________________________________________________________\n",
            "average_pooling2d_3 (Average (None, 15, 15, 6)         0         \n",
            "_________________________________________________________________\n",
            "conv2d_4 (Conv2D)            (None, 13, 13, 16)        880       \n",
            "_________________________________________________________________\n",
            "average_pooling2d_4 (Average (None, 6, 6, 16)          0         \n",
            "_________________________________________________________________\n",
            "flatten_2 (Flatten)          (None, 576)               0         \n",
            "_________________________________________________________________\n",
            "dense_4 (Dense)              (None, 120)               69240     \n",
            "_________________________________________________________________\n",
            "dense_5 (Dense)              (None, 84)                10164     \n",
            "_________________________________________________________________\n",
            "dense_6 (Dense)              (None, 2)                 170       \n",
            "=================================================================\n",
            "Total params: 80,622\n",
            "Trainable params: 80,622\n",
            "Non-trainable params: 0\n",
            "_________________________________________________________________\n",
            "Train on 135 samples, validate on 59 samples\n",
            "Epoch 1/52\n",
            "135/135 [==============================] - 0s 3ms/step - loss: 0.6449 - acc: 0.6889 - val_loss: 0.4834 - val_acc: 0.8814\n",
            "Epoch 2/52\n",
            "135/135 [==============================] - 0s 774us/step - loss: 0.4310 - acc: 0.8667 - val_loss: 0.3604 - val_acc: 0.8814\n",
            "Epoch 3/52\n",
            "135/135 [==============================] - 0s 751us/step - loss: 0.3925 - acc: 0.8667 - val_loss: 0.3644 - val_acc: 0.8814\n",
            "Epoch 4/52\n",
            "135/135 [==============================] - 0s 731us/step - loss: 0.3761 - acc: 0.8667 - val_loss: 0.3099 - val_acc: 0.8814\n",
            "Epoch 5/52\n",
            "135/135 [==============================] - 0s 768us/step - loss: 0.2943 - acc: 0.8667 - val_loss: 0.2765 - val_acc: 0.8983\n",
            "Epoch 6/52\n",
            "135/135 [==============================] - 0s 764us/step - loss: 0.2360 - acc: 0.9037 - val_loss: 0.2270 - val_acc: 0.8983\n",
            "Epoch 7/52\n",
            "135/135 [==============================] - 0s 767us/step - loss: 0.1677 - acc: 0.9185 - val_loss: 0.1792 - val_acc: 0.9153\n",
            "Epoch 8/52\n",
            "135/135 [==============================] - 0s 777us/step - loss: 0.1105 - acc: 0.9778 - val_loss: 0.1393 - val_acc: 0.9492\n",
            "Epoch 9/52\n",
            "135/135 [==============================] - 0s 815us/step - loss: 0.0624 - acc: 0.9852 - val_loss: 0.1551 - val_acc: 0.9322\n",
            "Epoch 10/52\n",
            "135/135 [==============================] - 0s 808us/step - loss: 0.0369 - acc: 0.9852 - val_loss: 0.0969 - val_acc: 0.9831\n",
            "Epoch 11/52\n",
            "135/135 [==============================] - 0s 790us/step - loss: 0.0336 - acc: 1.0000 - val_loss: 0.0947 - val_acc: 0.9831\n",
            "Epoch 12/52\n",
            "135/135 [==============================] - 0s 792us/step - loss: 0.0121 - acc: 1.0000 - val_loss: 0.1472 - val_acc: 0.9492\n",
            "Epoch 13/52\n",
            "135/135 [==============================] - 0s 776us/step - loss: 0.0152 - acc: 0.9926 - val_loss: 0.1310 - val_acc: 0.9661\n",
            "Epoch 14/52\n",
            "135/135 [==============================] - 0s 786us/step - loss: 0.0063 - acc: 1.0000 - val_loss: 0.1041 - val_acc: 0.9661\n",
            "Epoch 15/52\n",
            "135/135 [==============================] - 0s 837us/step - loss: 0.0060 - acc: 1.0000 - val_loss: 0.1180 - val_acc: 0.9661\n",
            "Epoch 16/52\n",
            "135/135 [==============================] - 0s 808us/step - loss: 0.0048 - acc: 1.0000 - val_loss: 0.1860 - val_acc: 0.9492\n",
            "Epoch 17/52\n",
            "135/135 [==============================] - 0s 774us/step - loss: 0.0072 - acc: 1.0000 - val_loss: 0.1222 - val_acc: 0.9661\n",
            "Epoch 18/52\n",
            "135/135 [==============================] - 0s 781us/step - loss: 0.0027 - acc: 1.0000 - val_loss: 0.0936 - val_acc: 0.9831\n",
            "Epoch 19/52\n",
            "135/135 [==============================] - 0s 789us/step - loss: 0.0045 - acc: 1.0000 - val_loss: 0.1182 - val_acc: 0.9661\n",
            "Epoch 20/52\n",
            "135/135 [==============================] - 0s 815us/step - loss: 0.0016 - acc: 1.0000 - val_loss: 0.2015 - val_acc: 0.9492\n",
            "Epoch 21/52\n",
            "135/135 [==============================] - 0s 787us/step - loss: 0.0037 - acc: 1.0000 - val_loss: 0.1685 - val_acc: 0.9492\n",
            "Epoch 22/52\n",
            "135/135 [==============================] - 0s 796us/step - loss: 0.0015 - acc: 1.0000 - val_loss: 0.1291 - val_acc: 0.9661\n",
            "Epoch 23/52\n",
            "135/135 [==============================] - 0s 769us/step - loss: 0.0013 - acc: 1.0000 - val_loss: 0.1178 - val_acc: 0.9661\n",
            "Epoch 24/52\n",
            "135/135 [==============================] - 0s 791us/step - loss: 0.0013 - acc: 1.0000 - val_loss: 0.1247 - val_acc: 0.9661\n",
            "Epoch 25/52\n",
            "135/135 [==============================] - 0s 825us/step - loss: 0.0011 - acc: 1.0000 - val_loss: 0.1469 - val_acc: 0.9661\n",
            "Epoch 26/52\n",
            "135/135 [==============================] - 0s 762us/step - loss: 9.0025e-04 - acc: 1.0000 - val_loss: 0.1543 - val_acc: 0.9661\n",
            "Epoch 27/52\n",
            "135/135 [==============================] - 0s 782us/step - loss: 8.8575e-04 - acc: 1.0000 - val_loss: 0.1481 - val_acc: 0.9661\n",
            "Epoch 28/52\n",
            "135/135 [==============================] - 0s 785us/step - loss: 8.0235e-04 - acc: 1.0000 - val_loss: 0.1409 - val_acc: 0.9661\n",
            "Epoch 29/52\n",
            "135/135 [==============================] - 0s 792us/step - loss: 7.4466e-04 - acc: 1.0000 - val_loss: 0.1414 - val_acc: 0.9661\n",
            "Epoch 30/52\n",
            "135/135 [==============================] - 0s 823us/step - loss: 6.7916e-04 - acc: 1.0000 - val_loss: 0.1464 - val_acc: 0.9661\n",
            "Epoch 31/52\n",
            "135/135 [==============================] - 0s 885us/step - loss: 6.3116e-04 - acc: 1.0000 - val_loss: 0.1522 - val_acc: 0.9661\n",
            "Epoch 32/52\n",
            "135/135 [==============================] - 0s 828us/step - loss: 6.1009e-04 - acc: 1.0000 - val_loss: 0.1539 - val_acc: 0.9661\n",
            "Epoch 33/52\n",
            "135/135 [==============================] - 0s 791us/step - loss: 5.7818e-04 - acc: 1.0000 - val_loss: 0.1566 - val_acc: 0.9661\n",
            "Epoch 34/52\n",
            "135/135 [==============================] - 0s 759us/step - loss: 5.3342e-04 - acc: 1.0000 - val_loss: 0.1529 - val_acc: 0.9661\n",
            "Epoch 35/52\n",
            "135/135 [==============================] - 0s 789us/step - loss: 4.9169e-04 - acc: 1.0000 - val_loss: 0.1505 - val_acc: 0.9661\n",
            "Epoch 36/52\n",
            "135/135 [==============================] - 0s 806us/step - loss: 4.8028e-04 - acc: 1.0000 - val_loss: 0.1483 - val_acc: 0.9661\n",
            "Epoch 37/52\n",
            "135/135 [==============================] - 0s 756us/step - loss: 4.5388e-04 - acc: 1.0000 - val_loss: 0.1536 - val_acc: 0.9661\n",
            "Epoch 38/52\n",
            "135/135 [==============================] - 0s 838us/step - loss: 4.2113e-04 - acc: 1.0000 - val_loss: 0.1561 - val_acc: 0.9661\n",
            "Epoch 39/52\n",
            "135/135 [==============================] - 0s 791us/step - loss: 4.1333e-04 - acc: 1.0000 - val_loss: 0.1581 - val_acc: 0.9661\n",
            "Epoch 40/52\n",
            "135/135 [==============================] - 0s 759us/step - loss: 3.9348e-04 - acc: 1.0000 - val_loss: 0.1542 - val_acc: 0.9661\n",
            "Epoch 41/52\n",
            "135/135 [==============================] - 0s 817us/step - loss: 3.7112e-04 - acc: 1.0000 - val_loss: 0.1563 - val_acc: 0.9661\n",
            "Epoch 42/52\n",
            "135/135 [==============================] - 0s 838us/step - loss: 3.5804e-04 - acc: 1.0000 - val_loss: 0.1587 - val_acc: 0.9661\n",
            "Epoch 43/52\n",
            "135/135 [==============================] - 0s 781us/step - loss: 3.3792e-04 - acc: 1.0000 - val_loss: 0.1668 - val_acc: 0.9661\n",
            "Epoch 44/52\n",
            "135/135 [==============================] - 0s 807us/step - loss: 3.7013e-04 - acc: 1.0000 - val_loss: 0.1738 - val_acc: 0.9661\n",
            "Epoch 45/52\n",
            "135/135 [==============================] - 0s 812us/step - loss: 3.4203e-04 - acc: 1.0000 - val_loss: 0.1620 - val_acc: 0.9661\n",
            "Epoch 46/52\n",
            "135/135 [==============================] - 0s 811us/step - loss: 2.9424e-04 - acc: 1.0000 - val_loss: 0.1551 - val_acc: 0.9661\n",
            "Epoch 47/52\n",
            "135/135 [==============================] - 0s 826us/step - loss: 2.8806e-04 - acc: 1.0000 - val_loss: 0.1528 - val_acc: 0.9661\n",
            "Epoch 48/52\n",
            "135/135 [==============================] - 0s 805us/step - loss: 2.7734e-04 - acc: 1.0000 - val_loss: 0.1544 - val_acc: 0.9661\n",
            "Epoch 49/52\n",
            "135/135 [==============================] - 0s 866us/step - loss: 2.5954e-04 - acc: 1.0000 - val_loss: 0.1594 - val_acc: 0.9661\n",
            "Epoch 50/52\n",
            "135/135 [==============================] - 0s 851us/step - loss: 2.4668e-04 - acc: 1.0000 - val_loss: 0.1660 - val_acc: 0.9661\n",
            "Epoch 51/52\n",
            "135/135 [==============================] - 0s 810us/step - loss: 2.5811e-04 - acc: 1.0000 - val_loss: 0.1739 - val_acc: 0.9661\n",
            "Epoch 52/52\n",
            "135/135 [==============================] - 0s 837us/step - loss: 2.4371e-04 - acc: 1.0000 - val_loss: 0.1725 - val_acc: 0.9661\n",
            "13/13 [==============================] - 0s 356us/step\n",
            "Test loss: 0.07298707216978073\n",
            "Test accuracy: 0.9230769276618958\n"
          ],
          "name": "stdout"
        }
      ]
    },
    {
      "cell_type": "code",
      "metadata": {
        "id": "Na7CVTe_k_ie",
        "colab_type": "code",
        "colab": {}
      },
      "source": [
        "#classify.py\n",
        "\n",
        "import numpy as np\n",
        "from keras.models import load_model\n",
        "from keras.preprocessing.image import img_to_array, load_img\n",
        "import time\n",
        "import os\n",
        "\n",
        "#class_model = load_model(base_dir + 'apple_lenet_model.h5')\n",
        "\n",
        "#traffic_light_colors = ['ripe', 'not_ripe']\n",
        "\n",
        "from PIL import Image\n",
        "import matplotlib.pyplot as plt\n",
        "import matplotlib.image as mpimg\n",
        "\n",
        "\n",
        "class ObjectClassifier:\n",
        "\n",
        "    def __init__(self,location_path = base_dir, model_name = 'apple_lenet_model.h5' ):       \n",
        "  \n",
        "            try:\n",
        "              self.class_model = load_model(base_dir + 'apple_lenet_model.h5')\n",
        "              \n",
        "            except Exception as e:\n",
        "                print(e)\n",
        "                exit()\n",
        "\n",
        "            self.traffic_light_colors = ['ripe', 'not_ripe']\n",
        "\n",
        "    def predict(self,image_name):\n",
        "\n",
        "        img = load_img(image_name, False, target_size=(32, 32))\n",
        "        x = img_to_array(img)\n",
        "        x = np.expand_dims(x, axis=0)\n",
        "        preds = self.class_model.predict_classes(x)\n",
        "        prob = selfclass_model.predict_proba(x)\n",
        "\n",
        "        return preds[0], prob[0]\n",
        "\n",
        "    def predict_for_detected(self, image_name):\n",
        "      \n",
        "        resized_image = image_name.resize((32,32), resample=0)\n",
        "\n",
        "        x = img_to_array(resized_image)\n",
        "        x = np.expand_dims(x, axis=0)\n",
        "        preds = self.class_model.predict_classes(x)\n",
        "        prob = self.class_model.predict_proba(x)\n",
        "\n",
        "        return preds[0], prob[0]\n",
        "\n",
        "    def draw_positive_boxes(self,final_image,object_data, object_images, show_each_addition =  False ):\n",
        "\n",
        "      height, width ,_ = final_image.shape #  as per PIL\n",
        "      print('final_image.shape : ', final_image.shape)\n",
        "\n",
        "\n",
        "      for   i in  range(0, len(object_images ) ) :\n",
        "        start = time.time()\n",
        "        pred, prob = self.predict_for_detected( object_images[i]) #originally self was not here then it gave trouble for no reason\n",
        "\n",
        "        #plt.imshow(object_images[i])\n",
        "        #plt.show()\n",
        "        elapsed = time.time() - start\n",
        "        print('Result: ', ':', self.traffic_light_colors[pred], '- prodb:', prob, '-elapsed time:', elapsed, ' s')\n",
        "\n",
        "        if pred == 0 :\n",
        "          ymin, xmin, ymax, xmax = tuple(object_data[i].tolist())#tuple(boxes[i].tolist())\n",
        "          #print('ymin, xmin, ymax, xmax', ymin, xmin, ymax, xmax)\n",
        "          ymin = int(ymin * height)\n",
        "          ymax = int(ymax * height)\n",
        "          xmin = int(xmin * width)\n",
        "          xmax = int(xmax * width)\n",
        "          #print('ymin, xmin, ymax, xmax', ymin, xmin, ymax, xmax)\n",
        "\n",
        "          cv2.rectangle(final_image, (int(xmin),int(ymin)) , (int(xmax),int( ymax) ) , (255,0,0) ,2)\n",
        "          if show_each_addition  :\n",
        "            cv2_imshow(final_image)\n",
        "            \n",
        "\n",
        "          #return final_image # <-------------wrong indentation caused return only if apple sucessfully calssified\n",
        "\n",
        "      return final_image\n",
        "\n",
        "#show_each_addition = False\n",
        "#last_image = draw_positive_boxes( final_image, object_data, object_images,  show_each_addition )\n",
        "\n",
        "#total = 0 #not used?\n",
        "#errors = 0\n",
        "\n"
      ],
      "execution_count": 0,
      "outputs": []
    },
    {
      "cell_type": "code",
      "metadata": {
        "id": "G6ytp-oSvj2v",
        "colab_type": "code",
        "outputId": "d006b9a0-c16a-4b5f-82a7-7f6c2963073c",
        "colab": {
          "base_uri": "https://localhost:8080/",
          "height": 1000
        }
      },
      "source": [
        "#the complete pipeline\n",
        "\n",
        "\n",
        "from google.colab.patches import cv2_imshow\n",
        "from moviepy.editor import VideoFileClip\n",
        "from IPython.display import HTML #from my lane line project\n",
        "import cv2\n",
        "\n",
        "#clip1 = VideoFileClip(base_dir + 'APPLE_VIDEO.MP4')\n",
        "#frame = clip1.get_frame(3)#3) #19\n",
        "\n",
        "#Before processing\n",
        "#frame = cv2.cvtColor(frame, cv2.COLOR_BGR2RGB)\n",
        "#cv2_imshow( cv2.resize(frame, None, fx = 0.25 , fy = 0.25, interpolation = cv2.INTER_CUBIC) )\n",
        "\n",
        "\n",
        "my_detector = ObjectDetector(base_dir , 'frozen_inference_graph.pb')\n",
        "my_classifier = ObjectClassifier(base_dir ,'apple_lenet_model.h5'  )\n",
        "\n",
        "\n",
        "#pipeline\n",
        "\n",
        "\n",
        "def pipeline(frame) :\n",
        "  output_dict = my_detector.run_inference_for_single_image(frame, show_stats = False) # True)\n",
        "  #frame = cv2.cvtColor(frame, cv2.COLOR_BGR2RGB)#is rgb getting screwed up?\n",
        "  final_image, object_data, object_images  = my_detector.overlay_bounding_boxes( frame, output_dict,53, 0.10, draw_boxes = False ) #True)\n",
        "  #After processing\n",
        "  #cv2_imshow(final_image)\n",
        "  #cv2_imshow( cv2.resize(final_image, None, fx = 0.25 , fy = 0.25, interpolation = cv2.INTER_CUBIC) )\n",
        "\n",
        "  last_image = my_classifier.draw_positive_boxes(final_image, object_data,object_images)\n",
        "  \n",
        "\n",
        "  #cv2_imshow( cv2.resize(last_image, None, fx = 0.25 , fy = 0.25, interpolation = cv2.INTER_CUBIC) ) #fails here if no image or objects?\n",
        "  \n",
        "  return last_image #forgot this!!\n",
        "\n",
        "clip1 = VideoFileClip(base_dir + 'APPLE_VIDEO.MP4').subclip(0,5)\n",
        "output_clip = clip1.fl_image(pipeline)\n",
        "output_clip.write_videofile(base_dir + 'output_clip_4.mp4', audio = False)\n",
        "\n",
        "\n",
        "\n",
        "#white_output = 'test_videos_output\\solidWhiteRight_After_Feedback.mp4'\n"
      ],
      "execution_count": 0,
      "outputs": [
        {
          "output_type": "stream",
          "text": [
            "final_image.shape :  (720, 1280, 3)\n",
            "Result:  : not_ripe - prodb: [1.8722805e-07 9.9999976e-01] -elapsed time: 0.2160511016845703  s\n",
            "Result:  : not_ripe - prodb: [2.5239456e-06 9.9999750e-01] -elapsed time: 0.0032830238342285156  s\n",
            "Result:  : not_ripe - prodb: [1.3850148e-04 9.9986148e-01] -elapsed time: 0.003028392791748047  s\n",
            "Result:  : not_ripe - prodb: [1.1758152e-09 1.0000000e+00] -elapsed time: 0.0027947425842285156  s\n",
            "Result:  : not_ripe - prodb: [2.2077646e-08 1.0000000e+00] -elapsed time: 0.0026977062225341797  s\n",
            "Result:  : not_ripe - prodb: [4.1759165e-09 1.0000000e+00] -elapsed time: 0.002550363540649414  s\n",
            "Result:  : not_ripe - prodb: [7.6038866e-08 9.9999988e-01] -elapsed time: 0.002608776092529297  s\n",
            "[MoviePy] >>>> Building video /content/gdrive/My Drive/output_clip_4.mp4\n",
            "[MoviePy] Writing video /content/gdrive/My Drive/output_clip_4.mp4\n"
          ],
          "name": "stdout"
        },
        {
          "output_type": "stream",
          "text": [
            "  1%|          | 1/151 [00:00<00:31,  4.72it/s]"
          ],
          "name": "stderr"
        },
        {
          "output_type": "stream",
          "text": [
            "final_image.shape :  (720, 1280, 3)\n",
            "Result:  : not_ripe - prodb: [1.8722805e-07 9.9999976e-01] -elapsed time: 0.004271745681762695  s\n",
            "Result:  : not_ripe - prodb: [2.5239456e-06 9.9999750e-01] -elapsed time: 0.0030443668365478516  s\n",
            "Result:  : not_ripe - prodb: [1.3850148e-04 9.9986148e-01] -elapsed time: 0.0029838085174560547  s\n",
            "Result:  : not_ripe - prodb: [1.1758152e-09 1.0000000e+00] -elapsed time: 0.0029609203338623047  s\n",
            "Result:  : not_ripe - prodb: [2.2077646e-08 1.0000000e+00] -elapsed time: 0.002588033676147461  s\n",
            "Result:  : not_ripe - prodb: [4.1759165e-09 1.0000000e+00] -elapsed time: 0.0026798248291015625  s\n",
            "Result:  : not_ripe - prodb: [7.6038866e-08 9.9999988e-01] -elapsed time: 0.0025949478149414062  s\n"
          ],
          "name": "stdout"
        },
        {
          "output_type": "stream",
          "text": [
            "\r  1%|▏         | 2/151 [00:00<00:33,  4.48it/s]"
          ],
          "name": "stderr"
        },
        {
          "output_type": "stream",
          "text": [
            "final_image.shape :  (720, 1280, 3)\n",
            "Result:  : not_ripe - prodb: [2.4495972e-07 9.9999976e-01] -elapsed time: 0.0037696361541748047  s\n",
            "Result:  : not_ripe - prodb: [4.0204675e-04 9.9959797e-01] -elapsed time: 0.0045397281646728516  s\n",
            "Result:  : not_ripe - prodb: [2.0378066e-07 9.9999976e-01] -elapsed time: 0.006884098052978516  s\n",
            "Result:  : not_ripe - prodb: [3.1696497e-06 9.9999678e-01] -elapsed time: 0.0030736923217773438  s\n",
            "Result:  : not_ripe - prodb: [1.7074214e-08 1.0000000e+00] -elapsed time: 0.0029456615447998047  s\n",
            "Result:  : not_ripe - prodb: [8.005202e-11 1.000000e+00] -elapsed time: 0.0027322769165039062  s\n",
            "Result:  : not_ripe - prodb: [3.2469963e-08 1.0000000e+00] -elapsed time: 0.002761363983154297  s\n",
            "Result:  : not_ripe - prodb: [4.4691333e-06 9.9999559e-01] -elapsed time: 0.0027008056640625  s\n"
          ],
          "name": "stdout"
        },
        {
          "output_type": "stream",
          "text": [
            "\r  2%|▏         | 3/151 [00:00<00:33,  4.44it/s]"
          ],
          "name": "stderr"
        },
        {
          "output_type": "stream",
          "text": [
            "final_image.shape :  (720, 1280, 3)\n",
            "Result:  : not_ripe - prodb: [6.7829944e-07 9.9999928e-01] -elapsed time: 0.003310680389404297  s\n",
            "Result:  : not_ripe - prodb: [5.754632e-04 9.994246e-01] -elapsed time: 0.002864837646484375  s\n",
            "Result:  : not_ripe - prodb: [1.3253214e-10 1.0000000e+00] -elapsed time: 0.0030312538146972656  s\n",
            "Result:  : not_ripe - prodb: [2.3659719e-07 9.9999976e-01] -elapsed time: 0.002709627151489258  s\n",
            "Result:  : not_ripe - prodb: [2.3874268e-08 1.0000000e+00] -elapsed time: 0.0026988983154296875  s\n",
            "Result:  : not_ripe - prodb: [2.5412583e-06 9.9999750e-01] -elapsed time: 0.0024962425231933594  s\n",
            "Result:  : not_ripe - prodb: [1.3365558e-08 1.0000000e+00] -elapsed time: 0.0025806427001953125  s\n",
            "Result:  : not_ripe - prodb: [2.1235596e-07 9.9999976e-01] -elapsed time: 0.002507925033569336  s\n",
            "Result:  : not_ripe - prodb: [3.2650487e-06 9.9999678e-01] -elapsed time: 0.0028259754180908203  s\n",
            "Result:  : not_ripe - prodb: [9.724661e-09 1.000000e+00] -elapsed time: 0.0028634071350097656  s\n"
          ],
          "name": "stdout"
        },
        {
          "output_type": "stream",
          "text": [
            "\r  3%|▎         | 4/151 [00:00<00:32,  4.51it/s]"
          ],
          "name": "stderr"
        },
        {
          "output_type": "stream",
          "text": [
            "final_image.shape :  (720, 1280, 3)\n",
            "Result:  : not_ripe - prodb: [1.765673e-06 9.999982e-01] -elapsed time: 0.0033860206604003906  s\n",
            "Result:  : not_ripe - prodb: [1.6585354e-09 1.0000000e+00] -elapsed time: 0.002830982208251953  s\n",
            "Result:  : not_ripe - prodb: [3.9893141e-04 9.9960107e-01] -elapsed time: 0.002661466598510742  s\n",
            "Result:  : not_ripe - prodb: [7.7429531e-06 9.9999225e-01] -elapsed time: 0.00257110595703125  s\n",
            "Result:  : not_ripe - prodb: [3.1894945e-07 9.9999964e-01] -elapsed time: 0.002545595169067383  s\n",
            "Result:  : not_ripe - prodb: [6.5189266e-07 9.9999940e-01] -elapsed time: 0.0025196075439453125  s\n",
            "Result:  : not_ripe - prodb: [3.812762e-08 1.000000e+00] -elapsed time: 0.002490520477294922  s\n",
            "Result:  : not_ripe - prodb: [2.5539006e-08 1.0000000e+00] -elapsed time: 0.002409696578979492  s\n"
          ],
          "name": "stdout"
        },
        {
          "output_type": "stream",
          "text": [
            "\r  3%|▎         | 5/151 [00:01<00:32,  4.54it/s]"
          ],
          "name": "stderr"
        },
        {
          "output_type": "stream",
          "text": [
            "final_image.shape :  (720, 1280, 3)\n",
            "Result:  : not_ripe - prodb: [7.0647770e-06 9.9999297e-01] -elapsed time: 0.0034172534942626953  s\n",
            "Result:  : not_ripe - prodb: [2.7166464e-04 9.9972826e-01] -elapsed time: 0.002981424331665039  s\n",
            "Result:  : not_ripe - prodb: [2.7914668e-08 1.0000000e+00] -elapsed time: 0.0030927658081054688  s\n",
            "Result:  : not_ripe - prodb: [8.2002646e-07 9.9999917e-01] -elapsed time: 0.0026426315307617188  s\n",
            "Result:  : not_ripe - prodb: [1.3591939e-06 9.9999869e-01] -elapsed time: 0.0026030540466308594  s\n",
            "Result:  : not_ripe - prodb: [4.674319e-08 1.000000e+00] -elapsed time: 0.0026018619537353516  s\n",
            "Result:  : not_ripe - prodb: [3.4772791e-07 9.9999964e-01] -elapsed time: 0.0029404163360595703  s\n",
            "Result:  : not_ripe - prodb: [4.8890647e-09 1.0000000e+00] -elapsed time: 0.0027697086334228516  s\n"
          ],
          "name": "stdout"
        },
        {
          "output_type": "stream",
          "text": [
            "\r  4%|▍         | 6/151 [00:01<00:33,  4.37it/s]"
          ],
          "name": "stderr"
        },
        {
          "output_type": "stream",
          "text": [
            "final_image.shape :  (720, 1280, 3)\n",
            "Result:  : not_ripe - prodb: [6.3427424e-06 9.9999368e-01] -elapsed time: 0.0033936500549316406  s\n",
            "Result:  : not_ripe - prodb: [5.977629e-13 1.000000e+00] -elapsed time: 0.002902984619140625  s\n",
            "Result:  : not_ripe - prodb: [5.5031986e-05 9.9994493e-01] -elapsed time: 0.002681255340576172  s\n",
            "Result:  : not_ripe - prodb: [8.5102192e-06 9.9999154e-01] -elapsed time: 0.0025670528411865234  s\n",
            "Result:  : not_ripe - prodb: [1.0487165e-06 9.9999893e-01] -elapsed time: 0.002444028854370117  s\n",
            "Result:  : not_ripe - prodb: [9.069434e-08 9.999999e-01] -elapsed time: 0.002424955368041992  s\n",
            "Result:  : not_ripe - prodb: [1.1359731e-06 9.9999881e-01] -elapsed time: 0.002481222152709961  s\n",
            "Result:  : not_ripe - prodb: [2.5859636e-05 9.9997413e-01] -elapsed time: 0.002337932586669922  s\n",
            "Result:  : not_ripe - prodb: [3.9357506e-06 9.9999607e-01] -elapsed time: 0.0022912025451660156  s\n",
            "Result:  : not_ripe - prodb: [5.6017836e-07 9.9999940e-01] -elapsed time: 0.002357006072998047  s\n",
            "Result:  : not_ripe - prodb: [1.2861663e-05 9.9998713e-01] -elapsed time: 0.0023305416107177734  s\n",
            "Result:  : not_ripe - prodb: [2.207133e-08 1.000000e+00] -elapsed time: 0.0023124217987060547  s\n"
          ],
          "name": "stdout"
        },
        {
          "output_type": "stream",
          "text": [
            "\r  5%|▍         | 7/151 [00:01<00:33,  4.34it/s]"
          ],
          "name": "stderr"
        },
        {
          "output_type": "stream",
          "text": [
            "final_image.shape :  (720, 1280, 3)\n",
            "Result:  : not_ripe - prodb: [1.0152968e-04 9.9989843e-01] -elapsed time: 0.0034105777740478516  s\n",
            "Result:  : not_ripe - prodb: [9.243228e-06 9.999907e-01] -elapsed time: 0.0028891563415527344  s\n",
            "Result:  : not_ripe - prodb: [8.223523e-06 9.999918e-01] -elapsed time: 0.0030317306518554688  s\n",
            "Result:  : not_ripe - prodb: [2.2296147e-06 9.9999774e-01] -elapsed time: 0.002655029296875  s\n",
            "Result:  : not_ripe - prodb: [2.5577279e-07 9.9999976e-01] -elapsed time: 0.002622365951538086  s\n",
            "Result:  : not_ripe - prodb: [2.7083134e-12 1.0000000e+00] -elapsed time: 0.0024857521057128906  s\n",
            "Result:  : not_ripe - prodb: [3.5729365e-05 9.9996424e-01] -elapsed time: 0.002457857131958008  s\n",
            "Result:  : not_ripe - prodb: [1.8026996e-05 9.9998200e-01] -elapsed time: 0.0022432804107666016  s\n",
            "Result:  : not_ripe - prodb: [5.4147904e-07 9.9999940e-01] -elapsed time: 0.0024077892303466797  s\n"
          ],
          "name": "stdout"
        },
        {
          "output_type": "stream",
          "text": [
            "\r  5%|▌         | 8/151 [00:01<00:32,  4.42it/s]"
          ],
          "name": "stderr"
        },
        {
          "output_type": "stream",
          "text": [
            "final_image.shape :  (720, 1280, 3)\n",
            "Result:  : not_ripe - prodb: [5.813975e-04 9.994186e-01] -elapsed time: 0.0036411285400390625  s\n",
            "Result:  : not_ripe - prodb: [4.7734356e-06 9.9999523e-01] -elapsed time: 0.0033617019653320312  s\n",
            "Result:  : not_ripe - prodb: [3.2018543e-06 9.9999678e-01] -elapsed time: 0.0027933120727539062  s\n",
            "Result:  : not_ripe - prodb: [7.0721921e-06 9.9999297e-01] -elapsed time: 0.0025703907012939453  s\n",
            "Result:  : not_ripe - prodb: [1.1868926e-12 1.0000000e+00] -elapsed time: 0.002270936965942383  s\n",
            "Result:  : not_ripe - prodb: [2.4498752e-07 9.9999976e-01] -elapsed time: 0.0022974014282226562  s\n",
            "Result:  : not_ripe - prodb: [1.0952987e-05 9.9998903e-01] -elapsed time: 0.0024306774139404297  s\n",
            "Result:  : not_ripe - prodb: [1.0884583e-08 1.0000000e+00] -elapsed time: 0.0023283958435058594  s\n"
          ],
          "name": "stdout"
        },
        {
          "output_type": "stream",
          "text": [
            "\r  6%|▌         | 9/151 [00:02<00:31,  4.52it/s]"
          ],
          "name": "stderr"
        },
        {
          "output_type": "stream",
          "text": [
            "final_image.shape :  (720, 1280, 3)\n",
            "Result:  : not_ripe - prodb: [4.7569119e-06 9.9999523e-01] -elapsed time: 0.0032923221588134766  s\n",
            "Result:  : not_ripe - prodb: [2.921127e-04 9.997079e-01] -elapsed time: 0.0027391910552978516  s\n",
            "Result:  : not_ripe - prodb: [2.1816245e-06 9.9999785e-01] -elapsed time: 0.00254058837890625  s\n",
            "Result:  : not_ripe - prodb: [2.5892700e-07 9.9999976e-01] -elapsed time: 0.0024652481079101562  s\n",
            "Result:  : not_ripe - prodb: [1.2515824e-06 9.9999881e-01] -elapsed time: 0.002770662307739258  s\n",
            "Result:  : not_ripe - prodb: [4.1659573e-06 9.9999583e-01] -elapsed time: 0.0023546218872070312  s\n",
            "Result:  : not_ripe - prodb: [2.1511168e-08 1.0000000e+00] -elapsed time: 0.002493619918823242  s\n"
          ],
          "name": "stdout"
        },
        {
          "output_type": "stream",
          "text": [
            "\r  7%|▋         | 10/151 [00:02<00:30,  4.66it/s]"
          ],
          "name": "stderr"
        },
        {
          "output_type": "stream",
          "text": [
            "final_image.shape :  (720, 1280, 3)\n",
            "Result:  : not_ripe - prodb: [2.1962477e-04 9.9978036e-01] -elapsed time: 0.00616908073425293  s\n",
            "Result:  : not_ripe - prodb: [9.5312471e-06 9.9999046e-01] -elapsed time: 0.0026443004608154297  s\n",
            "Result:  : not_ripe - prodb: [1.2981201e-06 9.9999869e-01] -elapsed time: 0.002443552017211914  s\n",
            "Result:  : not_ripe - prodb: [4.9929565e-07 9.9999952e-01] -elapsed time: 0.0024623870849609375  s\n",
            "Result:  : not_ripe - prodb: [1.6213532e-06 9.9999833e-01] -elapsed time: 0.002436399459838867  s\n",
            "final_image.shape :  (720, 1280, 3)\n",
            "Result:  : not_ripe - prodb: [6.3181587e-06 9.9999368e-01] -elapsed time: 0.0032494068145751953  s\n"
          ],
          "name": "stdout"
        },
        {
          "output_type": "stream",
          "text": [
            "\r  7%|▋         | 11/151 [00:02<00:29,  4.79it/s]"
          ],
          "name": "stderr"
        },
        {
          "output_type": "stream",
          "text": [
            "Result:  : not_ripe - prodb: [5.4084198e-06 9.9999464e-01] -elapsed time: 0.005990743637084961  s\n",
            "Result:  : not_ripe - prodb: [0.00121588 0.9987841 ] -elapsed time: 0.0024454593658447266  s\n",
            "Result:  : not_ripe - prodb: [1.1601636e-06 9.9999881e-01] -elapsed time: 0.002282381057739258  s\n",
            "Result:  : not_ripe - prodb: [2.1401383e-06 9.9999785e-01] -elapsed time: 0.002755880355834961  s\n",
            "final_image.shape :  (720, 1280, 3)\n",
            "Result:  : not_ripe - prodb: [2.7678429e-06 9.9999726e-01] -elapsed time: 0.0033867359161376953  s\n",
            "Result:  : not_ripe - prodb: [7.4048230e-04 9.9925953e-01] -elapsed time: 0.0025691986083984375  s\n"
          ],
          "name": "stdout"
        },
        {
          "output_type": "stream",
          "text": [
            "\r  8%|▊         | 12/151 [00:02<00:28,  4.85it/s]"
          ],
          "name": "stderr"
        },
        {
          "output_type": "stream",
          "text": [
            "Result:  : not_ripe - prodb: [4.3263643e-11 1.0000000e+00] -elapsed time: 0.0032663345336914062  s\n",
            "Result:  : not_ripe - prodb: [1.6333421e-06 9.9999833e-01] -elapsed time: 0.003974199295043945  s\n",
            "Result:  : not_ripe - prodb: [1.2558085e-05 9.9998748e-01] -elapsed time: 0.0033915042877197266  s\n",
            "final_image.shape :  (720, 1280, 3)\n",
            "Result:  : not_ripe - prodb: [3.0601007e-06 9.9999690e-01] -elapsed time: 0.0032105445861816406  s\n",
            "Result:  : not_ripe - prodb: [0.00115132 0.9988487 ] -elapsed time: 0.0028297901153564453  s\n",
            "Result:  : not_ripe - prodb: [1.954275e-11 1.000000e+00] -elapsed time: 0.0023267269134521484  s\n",
            "Result:  : not_ripe - prodb: [2.7305921e-06 9.9999726e-01] -elapsed time: 0.0023691654205322266  s\n"
          ],
          "name": "stdout"
        },
        {
          "output_type": "stream",
          "text": [
            "  9%|▉         | 14/151 [00:03<00:27,  4.96it/s]"
          ],
          "name": "stderr"
        },
        {
          "output_type": "stream",
          "text": [
            "Result:  : not_ripe - prodb: [2.3931154e-06 9.9999762e-01] -elapsed time: 0.0038018226623535156  s\n",
            "final_image.shape :  (720, 1280, 3)\n",
            "Result:  : not_ripe - prodb: [1.6236519e-04 9.9983764e-01] -elapsed time: 0.0033807754516601562  s\n",
            "Result:  : not_ripe - prodb: [2.8289869e-06 9.9999714e-01] -elapsed time: 0.002544879913330078  s\n",
            "Result:  : not_ripe - prodb: [2.9738009e-04 9.9970263e-01] -elapsed time: 0.0024995803833007812  s\n",
            "Result:  : not_ripe - prodb: [2.2471537e-10 1.0000000e+00] -elapsed time: 0.0022194385528564453  s\n"
          ],
          "name": "stdout"
        },
        {
          "output_type": "stream",
          "text": [
            "\r 10%|▉         | 15/151 [00:03<00:27,  5.02it/s]"
          ],
          "name": "stderr"
        },
        {
          "output_type": "stream",
          "text": [
            "final_image.shape :  (720, 1280, 3)\n",
            "Result:  : not_ripe - prodb: [1.7146834e-06 9.9999833e-01] -elapsed time: 0.003139495849609375  s\n",
            "Result:  : not_ripe - prodb: [4.1826784e-08 1.0000000e+00] -elapsed time: 0.002736806869506836  s\n",
            "Result:  : not_ripe - prodb: [1.0320125e-05 9.9998963e-01] -elapsed time: 0.0023741722106933594  s\n",
            "Result:  : not_ripe - prodb: [7.894961e-04 9.992105e-01] -elapsed time: 0.002355337142944336  s\n",
            "final_image.shape :  (720, 1280, 3)\n",
            "Result:  : not_ripe - prodb: [1.4965910e-06 9.9999845e-01] -elapsed time: 0.003124713897705078  s\n"
          ],
          "name": "stdout"
        },
        {
          "output_type": "stream",
          "text": [
            "\r 11%|█         | 16/151 [00:03<00:27,  5.00it/s]"
          ],
          "name": "stderr"
        },
        {
          "output_type": "stream",
          "text": [
            "Result:  : not_ripe - prodb: [7.3382856e-05 9.9992657e-01] -elapsed time: 0.002776622772216797  s\n",
            "Result:  : not_ripe - prodb: [7.9190222e-06 9.9999213e-01] -elapsed time: 0.0038902759552001953  s\n",
            "Result:  : not_ripe - prodb: [0.01097141 0.9890286 ] -elapsed time: 0.00261688232421875  s\n",
            "Result:  : not_ripe - prodb: [2.1318151e-06 9.9999785e-01] -elapsed time: 0.002478361129760742  s\n",
            "Result:  : not_ripe - prodb: [2.0413422e-08 1.0000000e+00] -elapsed time: 0.002331256866455078  s\n",
            "final_image.shape :  (720, 1280, 3)\n",
            "Result:  : not_ripe - prodb: [1.4025585e-06 9.9999857e-01] -elapsed time: 0.003031015396118164  s\n",
            "Result:  : not_ripe - prodb: [1.5316243e-04 9.9984682e-01] -elapsed time: 0.0025670528411865234  s\n"
          ],
          "name": "stdout"
        },
        {
          "output_type": "stream",
          "text": [
            "\r 11%|█▏        | 17/151 [00:03<00:26,  5.02it/s]"
          ],
          "name": "stderr"
        },
        {
          "output_type": "stream",
          "text": [
            "Result:  : not_ripe - prodb: [0.00174601 0.998254  ] -elapsed time: 0.0026161670684814453  s\n",
            "Result:  : not_ripe - prodb: [6.5528679e-06 9.9999344e-01] -elapsed time: 0.003289937973022461  s\n",
            "Result:  : not_ripe - prodb: [7.0387641e-06 9.9999297e-01] -elapsed time: 0.0023305416107177734  s\n",
            "final_image.shape :  (720, 1280, 3)\n",
            "Result:  : not_ripe - prodb: [1.2211691e-05 9.9998784e-01] -elapsed time: 0.003217935562133789  s\n",
            "Result:  : not_ripe - prodb: [5.0035051e-05 9.9994993e-01] -elapsed time: 0.0026655197143554688  s\n",
            "Result:  : not_ripe - prodb: [0.00526677 0.9947332 ] -elapsed time: 0.002574443817138672  s\n",
            "Result:  : not_ripe - prodb: [1.0645977e-06 9.9999893e-01] "
          ],
          "name": "stdout"
        },
        {
          "output_type": "stream",
          "text": [
            " 13%|█▎        | 19/151 [00:03<00:25,  5.11it/s]"
          ],
          "name": "stderr"
        },
        {
          "output_type": "stream",
          "text": [
            "-elapsed time: 0.0024232864379882812  s\n",
            "Result:  : not_ripe - prodb: [0.11084166 0.88915837] -elapsed time: 0.004359006881713867  s\n",
            "final_image.shape :  (720, 1280, 3)\n",
            "Result:  : not_ripe - prodb: [1.3683991e-05 9.9998629e-01] -elapsed time: 0.0032324790954589844  s\n",
            "Result:  : not_ripe - prodb: [4.7311507e-05 9.9995267e-01] -elapsed time: 0.0027632713317871094  s\n",
            "Result:  : not_ripe - prodb: [4.6389218e-06 9.9999535e-01] -elapsed time: 0.0024764537811279297  s\n"
          ],
          "name": "stdout"
        },
        {
          "output_type": "stream",
          "text": [
            "\r 13%|█▎        | 20/151 [00:04<00:26,  4.96it/s]"
          ],
          "name": "stderr"
        },
        {
          "output_type": "stream",
          "text": [
            "final_image.shape :  (720, 1280, 3)\n",
            "Result:  : not_ripe - prodb: [1.8046505e-04 9.9981958e-01] -elapsed time: 0.0033550262451171875  s\n",
            "Result:  : not_ripe - prodb: [5.1342136e-05 9.9994862e-01] -elapsed time: 0.0026831626892089844  s\n",
            "Result:  : not_ripe - prodb: [1.02887405e-08 1.00000000e+00] -elapsed time: 0.002473115921020508  s\n",
            "Result:  : not_ripe - prodb: [0.00376938 0.99623066] -elapsed time: 0.0024378299713134766  s\n",
            "Result:  : not_ripe - prodb: [0.14125419 0.8587458 ] -elapsed time: 0.002309083938598633  s\n",
            "Result:  : not_ripe - prodb: [8.782369e-06 9.999912e-01] -elapsed time: 0.002264261245727539  s\n",
            "final_image.shape :  (720, 1280, 3)\n"
          ],
          "name": "stdout"
        },
        {
          "output_type": "stream",
          "text": [
            "\r 14%|█▍        | 21/151 [00:04<00:26,  4.95it/s]"
          ],
          "name": "stderr"
        },
        {
          "output_type": "stream",
          "text": [
            "Result:  : not_ripe - prodb: [6.628681e-05 9.999337e-01] -elapsed time: 0.0040264129638671875  s\n",
            "Result:  : not_ripe - prodb: [0.01127172 0.9887283 ] -elapsed time: 0.0034973621368408203  s\n",
            "Result:  : not_ripe - prodb: [6.6029286e-05 9.9993396e-01] -elapsed time: 0.003197193145751953  s\n",
            "Result:  : not_ripe - prodb: [2.4296607e-04 9.9975699e-01] -elapsed time: 0.002953052520751953  s\n",
            "Result:  : not_ripe - prodb: [9.321537e-06 9.999907e-01] -elapsed time: 0.003553628921508789  s\n",
            "final_image.shape :  (720, 1280, 3)\n",
            "Result:  : not_ripe - prodb: [6.700069e-05 9.999330e-01] -elapsed time: 0.0032536983489990234  s\n",
            "Result:  : not_ripe - prodb: [9.8215952e-04 9.9901783e-01] -elapsed time: 0.002490520477294922  s\n"
          ],
          "name": "stdout"
        },
        {
          "output_type": "stream",
          "text": [
            "\r 15%|█▍        | 22/151 [00:04<00:25,  4.99it/s]"
          ],
          "name": "stderr"
        },
        {
          "output_type": "stream",
          "text": [
            "Result:  : not_ripe - prodb: [1.3910757e-07 9.9999988e-01] -elapsed time: 0.0033380985260009766  s\n",
            "Result:  : not_ripe - prodb: [1.2168946e-08 1.0000000e+00] -elapsed time: 0.0037186145782470703  s\n",
            "Result:  : not_ripe - prodb: [1.8786344e-05 9.9998116e-01] -elapsed time: 0.00267791748046875  s\n",
            "Result:  : not_ripe - prodb: [3.5039553e-05 9.9996495e-01] -elapsed time: 0.0023436546325683594  s\n",
            "final_image.shape :  (720, 1280, 3)\n",
            "Result:  : not_ripe - prodb: [7.9155325e-05 9.9992085e-01] -elapsed time: 0.0031914710998535156  s\n",
            "Result:  : not_ripe - prodb: [0.01231975 0.9876802 ] -elapsed time: 0.002646207809448242  s\n",
            "Result:  : not_ripe - prodb: [0.00162901 0.99837106] -elapsed time: 0.0024271011352539062  s\n",
            "Result:  : not_ripe - prodb: [1.7110739e-04 9.9982882e-01] -elapsed time: 0.002349376678466797  s\n"
          ],
          "name": "stdout"
        },
        {
          "output_type": "stream",
          "text": [
            "\r 15%|█▌        | 23/151 [00:04<00:26,  4.92it/s]"
          ],
          "name": "stderr"
        },
        {
          "output_type": "stream",
          "text": [
            "Result:  : not_ripe - prodb: [1.3729039e-09 1.0000000e+00] -elapsed time: 0.003072500228881836  s\n",
            "Result:  : not_ripe - prodb: [2.1671217e-06 9.9999785e-01] -elapsed time: 0.003736257553100586  s\n",
            "Result:  : not_ripe - prodb: [8.4053154e-06 9.9999154e-01] -elapsed time: 0.002850055694580078  s\n",
            "Result:  : not_ripe - prodb: [3.975151e-05 9.999603e-01] -elapsed time: 0.003231525421142578  s\n",
            "final_image.shape :  (720, 1280, 3)\n",
            "Result:  : not_ripe - prodb: [1.01002726e-04 9.99899030e-01] -elapsed time: 0.0032455921173095703  s\n",
            "Result:  "
          ],
          "name": "stdout"
        },
        {
          "output_type": "stream",
          "text": [
            "\r 16%|█▌        | 24/151 [00:05<00:26,  4.80it/s]"
          ],
          "name": "stderr"
        },
        {
          "output_type": "stream",
          "text": [
            ": not_ripe - prodb: [1.742141e-05 9.999826e-01] -elapsed time: 0.003244161605834961  s\n",
            "Result:  : not_ripe - prodb: [0.01862832 0.98137164] -elapsed time: 0.0031499862670898438  s\n",
            "Result:  : not_ripe - prodb: [3.1353706e-05 9.9996865e-01] -elapsed time: 0.0042536258697509766  s\n",
            "Result:  : not_ripe - prodb: [0.00158946 0.99841046] -elapsed time: 0.003145933151245117  s\n",
            "Result:  : not_ripe - prodb: [1.5605834e-05 9.9998438e-01] -elapsed time: 0.0024156570434570312  s\n",
            "Result:  : not_ripe - prodb: [1.1927046e-08 1.0000000e+00] -elapsed time: 0.002268552780151367  s\n",
            "Result:  : not_ripe - prodb: [3.2937007e-07 9.9999964e-01] -elapsed time: 0.002454996109008789  s\n",
            "final_image.shape :  (720, 1280, 3)\n"
          ],
          "name": "stdout"
        },
        {
          "output_type": "stream",
          "text": [
            "\r 17%|█▋        | 25/151 [00:05<00:26,  4.76it/s]"
          ],
          "name": "stderr"
        },
        {
          "output_type": "stream",
          "text": [
            "Result:  : not_ripe - prodb: [3.462711e-04 9.996537e-01] -elapsed time: 0.005362749099731445  s\n",
            "Result:  : not_ripe - prodb: [1.2755113e-05 9.9998724e-01] -elapsed time: 0.003679990768432617  s\n",
            "Result:  : not_ripe - prodb: [1.0486002e-05 9.9998951e-01] -elapsed time: 0.002445220947265625  s\n",
            "Result:  : not_ripe - prodb: [3.9146867e-06 9.9999607e-01] -elapsed time: 0.0022962093353271484  s\n",
            "Result:  : not_ripe - prodb: [0.39530098 0.6046991 ] -elapsed time: 0.0021409988403320312  s\n",
            "Result:  : not_ripe - prodb: [0.02996478 0.97003514] -elapsed time: 0.002239704132080078  s\n",
            "Result:  : not_ripe - prodb: [1.0751169e-08 1.0000000e+00] -elapsed time: 0.0022194385528564453  s\n",
            "Result:  : not_ripe - prodb: [3.9453796e-05 9.9996054e-01] -elapsed time: 0.002357959747314453  s\n",
            "Result:  : ripe - prodb: [9.9985969e-01 1.4029512e-04] -elapsed time: 0.0023288726806640625  s\n",
            "Result:  : not_ripe - prodb: [3.2649794e-09 1.0000000e+00] -elapsed time: 0.002287149429321289  s\n"
          ],
          "name": "stdout"
        },
        {
          "output_type": "stream",
          "text": [
            "\r 17%|█▋        | 26/151 [00:05<00:26,  4.67it/s]"
          ],
          "name": "stderr"
        },
        {
          "output_type": "stream",
          "text": [
            "final_image.shape :  (720, 1280, 3)\n",
            "Result:  : not_ripe - prodb: [2.995832e-04 9.997004e-01] -elapsed time: 0.0031614303588867188  s\n",
            "Result:  : not_ripe - prodb: [0.00101539 0.99898463] -elapsed time: 0.002536296844482422  s\n",
            "Result:  : not_ripe - prodb: [2.6010897e-08 1.0000000e+00] -elapsed time: 0.002336263656616211  s\n",
            "Result:  : not_ripe - prodb: [0.00583592 0.99416405] -elapsed time: 0.0023262500762939453  s\n",
            "Result:  : ripe - prodb: [9.9988413e-01 1.1586862e-04] -elapsed time: 0.0022432804107666016  s\n",
            "Result:  : not_ripe - prodb: [0.03130785 0.9686922 ] -elapsed time: 0.0022804737091064453  s\n",
            "Result:  : not_ripe - prodb: [2.2925863e-09 1.0000000e+00] -elapsed time: 0.002426624298095703  s\n",
            "Result:  : not_ripe - prodb: [2.4666526e-05 9.9997532e-01] -elapsed time: 0.002354860305786133  s\n",
            "Result:  : not_ripe - prodb: [7.040114e-07 9.999993e-01] -elapsed time: 0.002285003662109375  s\n",
            "Result:  : not_ripe - prodb: [1.9681278e-05 9.9998033e-01] -elapsed time: 0.002299785614013672  s\n",
            "Result:  : not_ripe - prodb: [3.8118424e-06 9.9999619e-01] -elapsed time: 0.0030355453491210938  s\n"
          ],
          "name": "stdout"
        },
        {
          "output_type": "stream",
          "text": [
            "\r 18%|█▊        | 27/151 [00:05<00:25,  4.78it/s]"
          ],
          "name": "stderr"
        },
        {
          "output_type": "stream",
          "text": [
            "final_image.shape :  (720, 1280, 3)\n",
            "Result:  : not_ripe - prodb: [3.3735909e-04 9.9966264e-01] -elapsed time: 0.0032041072845458984  s\n",
            "Result:  : not_ripe - prodb: [1.7972002e-10 1.0000000e+00] -elapsed time: 0.0027947425842285156  s\n",
            "Result:  : not_ripe - prodb: [1.16620045e-04 9.99883413e-01] -elapsed time: 0.0029754638671875  s\n",
            "Result:  : not_ripe - prodb: [9.3837036e-04 9.9906164e-01] -elapsed time: 0.0024261474609375  s\n",
            "final_image.shape :  (720, 1280, 3)\n",
            "Result:  : not_ripe - prodb: [0.00146997 0.99853003]"
          ],
          "name": "stdout"
        },
        {
          "output_type": "stream",
          "text": [
            "\r 19%|█▊        | 28/151 [00:05<00:25,  4.75it/s]"
          ],
          "name": "stderr"
        },
        {
          "output_type": "stream",
          "text": [
            " -elapsed time: 0.0032362937927246094  s\n",
            "Result:  : not_ripe - prodb: [0.00185689 0.9981431 ] -elapsed time: 0.0033655166625976562  s\n",
            "Result:  : not_ripe - prodb: [1.1850761e-06 9.9999881e-01] -elapsed time: 0.0023910999298095703  s\n",
            "Result:  : not_ripe - prodb: [3.3855347e-05 9.9996614e-01] -elapsed time: 0.0023522377014160156  s\n",
            "Result:  : not_ripe - prodb: [2.1236427e-05 9.9997878e-01] -elapsed time: 0.002331256866455078  s\n",
            "Result:  : not_ripe - prodb: [4.551787e-08 1.000000e+00] -elapsed time: 0.002466917037963867  s\n",
            "Result:  : not_ripe - prodb: [6.9685007e-06 9.9999309e-01] -elapsed time: 0.0024497509002685547  s\n",
            "Result:  : not_ripe - prodb: [4.9277038e-05 9.9995077e-01] -elapsed time: 0.002407073974609375  s\n",
            "final_image.shape : "
          ],
          "name": "stdout"
        },
        {
          "output_type": "stream",
          "text": [
            "\r 19%|█▉        | 29/151 [00:06<00:26,  4.62it/s]"
          ],
          "name": "stderr"
        },
        {
          "output_type": "stream",
          "text": [
            " (720, 1280, 3)\n",
            "Result:  : not_ripe - prodb: [0.00111678 0.9988832 ] -elapsed time: 0.005094289779663086  s\n",
            "Result:  : not_ripe - prodb: [1.1407833e-05 9.9998856e-01] -elapsed time: 0.0030829906463623047  s\n",
            "Result:  : ripe - prodb: [9.999733e-01 2.675841e-05] -elapsed time: 0.002496957778930664  s\n",
            "Result:  : not_ripe - prodb: [9.0006552e-06 9.9999094e-01] -elapsed time: 0.002378225326538086  s\n",
            "Result:  : not_ripe - prodb: [0.01338683 0.9866131 ] -elapsed time: 0.0023450851440429688  s\n",
            "Result:  : ripe - prodb: [0.99702317 0.00297686] -elapsed time: 0.0030295848846435547  s\n",
            "Result:  : not_ripe - prodb: [4.7474572e-05 9.9995255e-01] -elapsed time: 0.0023810863494873047  s\n",
            "Result:  : not_ripe - prodb: [2.3006738e-04 9.9976999e-01] -elapsed time: 0.0023984909057617188  s\n",
            "Result:  : not_ripe - prodb: [8.4079067e-05 9.9991596e-01] -elapsed time: 0.002440214157104492  s\n",
            "Result:  : not_ripe - prodb: [1.4739066e-05 9.9998522e-01] -elapsed time: 0.002214193344116211  s\n",
            "Result:  : not_ripe - prodb: [1.7839404e-05 9.9998212e-01] -elapsed time: 0.0022199153900146484  s\n",
            "Result:  : not_ripe - prodb: [1.5618907e-05 9.9998438e-01] -elapsed time: 0.0038022994995117188  s\n",
            "Result:  : not_ripe - prodb: [3.4513803e-07 9.9999964e-01] -elapsed time: 0.0033071041107177734  s\n"
          ],
          "name": "stdout"
        },
        {
          "output_type": "stream",
          "text": [
            "\r 20%|█▉        | 30/151 [00:06<00:26,  4.50it/s]"
          ],
          "name": "stderr"
        },
        {
          "output_type": "stream",
          "text": [
            "final_image.shape :  (720, 1280, 3)\n",
            "Result:  : not_ripe - prodb: [0.00318429 0.99681574] -elapsed time: 0.003278017044067383  s\n",
            "Result:  : not_ripe - prodb: [7.515177e-10 1.000000e+00] -elapsed time: 0.00266265869140625  s\n",
            "Result:  : not_ripe - prodb: [0.04182677 0.9581732 ] -elapsed time: 0.0024907588958740234  s\n",
            "Result:  : ripe - prodb: [9.9996650e-01 3.3452285e-05] -elapsed time: 0.002382040023803711  s\n",
            "Result:  : not_ripe - prodb: [1.6784503e-06 9.9999833e-01] -elapsed time: 0.002368927001953125  s\n",
            "Result:  : not_ripe - prodb: [4.863240e-04 9.995136e-01] -elapsed time: 0.002250194549560547  s\n",
            "Result:  : not_ripe - prodb: [6.820411e-05 9.999318e-01] -elapsed time: 0.002213001251220703  s\n",
            "Result:  : not_ripe - prodb: [3.6975172e-05 9.9996305e-01] -elapsed time: 0.002173185348510742  s\n",
            "Result:  : not_ripe - prodb: [7.621527e-04 9.992379e-01] -elapsed time: 0.0037953853607177734  s\n",
            "Result:  : not_ripe - prodb: [0.00224657 0.99775344] -elapsed time: 0.0028579235076904297  s\n",
            "Result:  : not_ripe - prodb: [2.2293587e-04 9.9977702e-01] -elapsed time: 0.0025064945220947266  s\n",
            "Result:  : not_ripe - prodb: [6.4728079e-06 9.9999356e-01] -elapsed time: 0.0022842884063720703  s\n",
            "Result:  : not_ripe - prodb: [3.3787972e-05 9.9996626e-01] -elapsed time: 0.0021965503692626953  s\n",
            "Result:  : not_ripe - prodb: [2.6200293e-04 9.9973804e-01] -elapsed time: 0.0022020339965820312  s\n",
            "Result:  : not_ripe - prodb: [8.3084287e-06 9.9999166e-01] -elapsed time: 0.0023963451385498047  s\n"
          ],
          "name": "stdout"
        },
        {
          "output_type": "stream",
          "text": [
            "\r 21%|██        | 31/151 [00:06<00:26,  4.54it/s]"
          ],
          "name": "stderr"
        },
        {
          "output_type": "stream",
          "text": [
            "final_image.shape :  (720, 1280, 3)\n",
            "Result:  : not_ripe - prodb: [0.00161054 0.9983895 ] -elapsed time: 0.0032258033752441406  s\n",
            "Result:  : not_ripe - prodb: [0.01891854 0.9810814 ] -elapsed time: 0.0026459693908691406  s\n",
            "Result:  : ripe - prodb: [0.60652655 0.39347345] -elapsed time: 0.0023736953735351562  s\n",
            "Result:  : ripe - prodb: [9.9997544e-01 2.4610630e-05] -elapsed time: 0.0022656917572021484  s\n",
            "Result:  : not_ripe - prodb: [1.0976011e-06 9.9999893e-01] -elapsed time: 0.0021812915802001953  s\n",
            "Result:  : not_ripe - prodb: [2.4059722e-04 9.9975938e-01] -elapsed time: 0.0022535324096679688  s\n",
            "Result:  : not_ripe - prodb: [8.058061e-09 1.000000e+00] -elapsed time: 0.0022759437561035156  s\n",
            "Result:  : not_ripe - prodb: [6.149963e-05 9.999385e-01] -elapsed time: 0.002297639846801758  s\n",
            "Result:  : not_ripe - prodb: [4.0534615e-05 9.9995947e-01] -elapsed time: 0.002175569534301758  s\n",
            "Result:  : not_ripe - prodb: [1.5938301e-09 1.0000000e+00] -elapsed time: 0.002222299575805664  s\n"
          ],
          "name": "stdout"
        },
        {
          "output_type": "stream",
          "text": [
            "\r 21%|██        | 32/151 [00:06<00:27,  4.35it/s]"
          ],
          "name": "stderr"
        },
        {
          "output_type": "stream",
          "text": [
            "final_image.shape :  (720, 1280, 3)\n",
            "Result:  : not_ripe - prodb: [0.03227001 0.96773005] -elapsed time: 0.0032281875610351562  s\n",
            "Result:  : not_ripe - prodb: [0.00159787 0.9984022 ] -elapsed time: 0.0024352073669433594  s\n",
            "Result:  : not_ripe - prodb: [8.729829e-06 9.999913e-01] -elapsed time: 0.0023772716522216797  s\n",
            "Result:  : not_ripe - prodb: [0.00116579 0.9988342 ] -elapsed time: 0.002270936965942383  s\n",
            "Result:  : not_ripe - prodb: [1.6445897e-06 9.9999833e-01] -elapsed time: 0.0022127628326416016  s\n",
            "Result:  : ripe - prodb: [0.9737517  0.02624835] -elapsed time: 0.0021216869354248047  s\n",
            "Result:  : ripe - prodb: [9.9987972e-01 1.2032703e-04] -elapsed time: 0.0021648406982421875  s\n",
            "Result:  : ripe - prodb: [9.997069e-01 2.930086e-04] -elapsed time: 0.002209901809692383  s\n",
            "Result:  : not_ripe - prodb: [5.584811e-08 1.000000e+00] -elapsed time: 0.0021491050720214844  s\n",
            "Result:  : not_ripe - prodb: [1.4728829e-04 9.9985266e-01] -elapsed time: 0.002142190933227539  s\n",
            "Result:  : not_ripe - prodb: [3.7325063e-04 9.9962676e-01] -elapsed time: 0.0021085739135742188  s\n",
            "Result:  : not_ripe - prodb: [2.8764529e-05 9.9997127e-01] -elapsed time: 0.002259492874145508  s\n",
            "Result:  : not_ripe - prodb: [2.9629733e-05 9.9997032e-01] -elapsed time: 0.0021860599517822266  s\n",
            "Result:  : not_ripe - prodb: [2.0363495e-05 9.9997962e-01] -elapsed time: 0.002226114273071289  s\n",
            "Result:  : not_ripe - prodb: [1.6585476e-05 9.9998343e-01] -elapsed time: 0.0023162364959716797  s\n",
            "Result:  : not_ripe - prodb: [0.00136816 0.9986318 ] -elapsed time: 0.0023119449615478516  s\n"
          ],
          "name": "stdout"
        },
        {
          "output_type": "stream",
          "text": [
            "\r 22%|██▏       | 33/151 [00:07<00:26,  4.38it/s]"
          ],
          "name": "stderr"
        },
        {
          "output_type": "stream",
          "text": [
            "final_image.shape :  (720, 1280, 3)\n",
            "Result:  : not_ripe - prodb: [0.01576829 0.9842317 ] -elapsed time: 0.003196239471435547  s\n",
            "Result:  : not_ripe - prodb: [3.020423e-06 9.999970e-01] -elapsed time: 0.0025284290313720703  s\n",
            "Result:  : ripe - prodb: [9.9986386e-01 1.3616690e-04] -elapsed time: 0.00244903564453125  s\n",
            "Result:  : not_ripe - prodb: [0.00528951 0.99471045] -elapsed time: 0.0023317337036132812  s\n",
            "Result:  : not_ripe - prodb: [3.9290317e-05 9.9996066e-01] -elapsed time: 0.0023207664489746094  s\n",
            "Result:  : not_ripe - prodb: [2.7142457e-06 9.9999726e-01] -elapsed time: 0.0022356510162353516  s\n",
            "Result:  : ripe - prodb: [0.8133013  0.18669866] -elapsed time: 0.0035462379455566406  s\n",
            "Result:  : not_ripe - prodb: [3.677757e-08 1.000000e+00] -elapsed time: 0.004773378372192383  s\n",
            "Result:  : not_ripe - prodb: [2.3814839e-05 9.9997616e-01] -elapsed time: 0.0026988983154296875  s\n",
            "Result:  : not_ripe - prodb: [1.6961020e-04 9.9983037e-01] -elapsed time: 0.002542257308959961  s\n",
            "Result:  : not_ripe - prodb: [1.6320685e-06 9.9999833e-01] -elapsed time: 0.0026035308837890625  s\n"
          ],
          "name": "stdout"
        },
        {
          "output_type": "stream",
          "text": [
            "\r 23%|██▎       | 34/151 [00:07<00:26,  4.39it/s]"
          ],
          "name": "stderr"
        },
        {
          "output_type": "stream",
          "text": [
            "final_image.shape :  (720, 1280, 3)\n",
            "Result:  : not_ripe - prodb: [0.02076411 0.97923595] -elapsed time: 0.0033664703369140625  s\n",
            "Result:  : not_ripe - prodb: [0.00517606 0.99482393] -elapsed time: 0.002879619598388672  s\n",
            "Result:  : not_ripe - prodb: [7.684391e-06 9.999924e-01] -elapsed time: 0.002604246139526367  s\n",
            "Result:  : ripe - prodb: [9.9990928e-01 9.0717236e-05] -elapsed time: 0.002526521682739258  s\n",
            "Result:  : not_ripe - prodb: [1.9832138e-05 9.9998021e-01] -elapsed time: 0.0025899410247802734  s\n",
            "Result:  : ripe - prodb: [0.84714836 0.15285164] -elapsed time: 0.002567768096923828  s\n",
            "Result:  : ripe - prodb: [0.9947404  0.00525955] -elapsed time: 0.0027136802673339844  s\n",
            "Result:  : not_ripe - prodb: [0.00678359 0.99321634] -elapsed time: 0.002412080764770508  s\n",
            "Result:  : not_ripe - prodb: [2.458960e-06 9.999975e-01] -elapsed time: 0.0023832321166992188  s\n",
            "Result:  : not_ripe - prodb: [6.1829698e-05 9.9993813e-01] -elapsed time: 0.002469301223754883  s\n",
            "Result:  : not_ripe - prodb: [2.2295255e-06 9.9999774e-01] -elapsed time: 0.0023756027221679688  s\n",
            "Result:  : not_ripe - prodb: [1.7454218e-04 9.9982554e-01] -elapsed time: 0.0031065940856933594  s\n"
          ],
          "name": "stdout"
        },
        {
          "output_type": "stream",
          "text": [
            "\r 23%|██▎       | 35/151 [00:07<00:26,  4.30it/s]"
          ],
          "name": "stderr"
        },
        {
          "output_type": "stream",
          "text": [
            "final_image.shape :  (720, 1280, 3)\n",
            "Result:  : ripe - prodb: [9.9995136e-01 4.8601360e-05] -elapsed time: 0.0032224655151367188  s\n",
            "Result:  : not_ripe - prodb: [0.02360595 0.976394  ] -elapsed time: 0.0033843517303466797  s\n",
            "Result:  : ripe - prodb: [0.9834314  0.01656862] -elapsed time: 0.003048419952392578  s\n",
            "Result:  : ripe - prodb: [0.9950507  0.00494931] -elapsed time: 0.0024437904357910156  s\n",
            "Result:  : not_ripe - prodb: [6.1478041e-04 9.9938524e-01] -elapsed time: 0.0024576187133789062  s\n",
            "Result:  : not_ripe - prodb: [0.16485152 0.83514845] -elapsed time: 0.0026433467864990234  s\n",
            "Result:  : not_ripe - prodb: [1.8661341e-07 9.9999976e-01] -elapsed time: 0.0024290084838867188  s\n",
            "Result:  : not_ripe - prodb: [2.2950104e-05 9.9997699e-01] -elapsed time: 0.0024137496948242188  s\n",
            "Result:  : not_ripe - prodb: [7.1886607e-06 9.9999285e-01] -elapsed time: 0.002614736557006836  s\n",
            "Result:  : not_ripe - prodb: [3.4829973e-05 9.9996519e-01] -elapsed time: 0.002596616744995117  s\n",
            "Result:  : not_ripe - prodb: [1.35977825e-05 9.99986410e-01] -elapsed time: 0.002599000930786133  s\n",
            "Result:  : not_ripe - prodb: [5.085931e-05 9.999491e-01] -elapsed time: 0.002424478530883789  s\n",
            "Result:  : not_ripe - prodb: [7.838825e-09 1.000000e+00] -elapsed time: 0.0028252601623535156  s\n"
          ],
          "name": "stdout"
        },
        {
          "output_type": "stream",
          "text": [
            "\r 24%|██▍       | 36/151 [00:07<00:26,  4.33it/s]"
          ],
          "name": "stderr"
        },
        {
          "output_type": "stream",
          "text": [
            "final_image.shape :  (720, 1280, 3)\n",
            "Result:  : not_ripe - prodb: [0.00576911 0.99423087] -elapsed time: 0.0035381317138671875  s\n",
            "Result:  : not_ripe - prodb: [0.00928146 0.99071854] -elapsed time: 0.002825498580932617  s\n",
            "Result:  : not_ripe - prodb: [4.737273e-05 9.999527e-01] -elapsed time: 0.0027871131896972656  s\n",
            "Result:  : ripe - prodb: [9.9993706e-01 6.2926272e-05] -elapsed time: 0.002289295196533203  s\n",
            "Result:  : ripe - prodb: [9.9951160e-01 4.8843084e-04] -elapsed time: 0.002242565155029297  s\n",
            "Result:  : not_ripe - prodb: [4.2278825e-06 9.9999583e-01] -elapsed time: 0.0024003982543945312  s\n",
            "Result:  : not_ripe - prodb: [2.419642e-06 9.999976e-01] -elapsed time: 0.0027043819427490234  s\n",
            "Result:  : not_ripe - prodb: [2.0397858e-05 9.9997962e-01] -elapsed time: 0.0022912025451660156  s\n",
            "Result:  : not_ripe - prodb: [6.502977e-05 9.999349e-01] -elapsed time: 0.0023374557495117188  s\n",
            "Result:  : ripe - prodb: [0.9930958  0.00690411] -elapsed time: 0.003174304962158203  s\n",
            "Result:  : not_ripe - prodb: [4.088835e-08 1.000000e+00] -elapsed time: 0.0022978782653808594  s\n",
            "Result:  : not_ripe - prodb: [2.6557536e-06 9.9999738e-01] -elapsed time: 0.002368450164794922  s\n",
            "Result:  : not_ripe - prodb: [3.1110958e-06 9.9999690e-01] -elapsed time: 0.0022559165954589844  s\n"
          ],
          "name": "stdout"
        },
        {
          "output_type": "stream",
          "text": [
            "\r 25%|██▍       | 37/151 [00:07<00:25,  4.42it/s]"
          ],
          "name": "stderr"
        },
        {
          "output_type": "stream",
          "text": [
            "final_image.shape :  (720, 1280, 3)\n",
            "Result:  : not_ripe - prodb: [0.00481204 0.9951879 ] -elapsed time: 0.007889270782470703  s\n",
            "Result:  : not_ripe - prodb: [0.00373623 0.9962638 ] -elapsed time: 0.003050565719604492  s\n",
            "Result:  : not_ripe - prodb: [6.569309e-07 9.999993e-01] -elapsed time: 0.002960681915283203  s\n",
            "Result:  : not_ripe - prodb: [2.8554989e-06 9.9999714e-01] -elapsed time: 0.0032546520233154297  s\n",
            "Result:  : not_ripe - prodb: [3.4698685e-05 9.9996531e-01] -elapsed time: 0.0026693344116210938  s\n",
            "Result:  : not_ripe - prodb: [1.5319749e-05 9.9998462e-01] -elapsed time: 0.0025582313537597656  s\n"
          ],
          "name": "stdout"
        },
        {
          "output_type": "stream",
          "text": [
            "\r 25%|██▌       | 38/151 [00:08<00:25,  4.40it/s]"
          ],
          "name": "stderr"
        },
        {
          "output_type": "stream",
          "text": [
            "final_image.shape :  (720, 1280, 3)\n",
            "Result:  : not_ripe - prodb: [0.01090779 0.98909223] -elapsed time: 0.0032854080200195312  s\n",
            "Result:  : ripe - prodb: [9.999274e-01 7.259441e-05] -elapsed time: 0.0026166439056396484  s\n",
            "Result:  : not_ripe - prodb: [5.940364e-07 9.999994e-01] -elapsed time: 0.002353668212890625  s\n",
            "Result:  : not_ripe - prodb: [1.7892669e-08 1.0000000e+00] -elapsed time: 0.0023200511932373047  s\n",
            "Result:  : not_ripe - prodb: [2.5091185e-05 9.9997497e-01] -elapsed time: 0.0022859573364257812  s\n",
            "Result:  : ripe - prodb: [9.9926132e-01 7.3865656e-04] -elapsed time: 0.0024271011352539062  s\n",
            "Result:  : not_ripe - prodb: [5.075347e-04 9.994924e-01] -elapsed time: 0.0022237300872802734  s\n",
            "Result:  : not_ripe - prodb: [0.00498775 0.9950122 ] -elapsed time: 0.002302408218383789  s\n",
            "Result:  : not_ripe - prodb: [9.875172e-04 9.990125e-01] -elapsed time: 0.002477884292602539  s\n",
            "Result:  : not_ripe - prodb: [5.2819285e-04 9.9947184e-01] -elapsed time: 0.0023026466369628906  s\n",
            "Result:  : not_ripe - prodb: [5.2624473e-06 9.9999475e-01] -elapsed time: 0.0022530555725097656  s\n",
            "Result:  : ripe - prodb: [0.9915665  0.00843352] -elapsed time: 0.0024051666259765625  s\n"
          ],
          "name": "stdout"
        },
        {
          "output_type": "stream",
          "text": [
            "\r 26%|██▌       | 39/151 [00:08<00:25,  4.44it/s]"
          ],
          "name": "stderr"
        },
        {
          "output_type": "stream",
          "text": [
            "final_image.shape :  (720, 1280, 3)\n",
            "Result:  : not_ripe - prodb: [0.01083284 0.9891671 ] -elapsed time: 0.0032236576080322266  s\n",
            "Result:  : not_ripe - prodb: [2.7575321e-05 9.9997246e-01] -elapsed time: 0.0026340484619140625  s\n",
            "Result:  : ripe - prodb: [9.9995244e-01 4.7526755e-05] -elapsed time: 0.0023539066314697266  s\n",
            "Result:  : not_ripe - prodb: [0.00248053 0.99751943] -elapsed time: 0.0023038387298583984  s\n",
            "Result:  : ripe - prodb: [9.9914014e-01 8.5984060e-04] -elapsed time: 0.0024499893188476562  s\n",
            "Result:  : ripe - prodb: [0.98893356 0.01106649] -elapsed time: 0.0023822784423828125  s\n",
            "Result:  : not_ripe - prodb: [2.3155523e-04 9.9976844e-01] -elapsed time: 0.002393484115600586  s\n",
            "Result:  : not_ripe - prodb: [5.7808055e-08 1.0000000e+00] -elapsed time: 0.002569437026977539  s\n",
            "Result:  : ripe - prodb: [0.99704045 0.0029595 ] -elapsed time: 0.0024688243865966797  s\n",
            "Result:  : not_ripe - prodb: [3.7871267e-08 1.0000000e+00] -elapsed time: 0.0024099349975585938  s\n",
            "Result:  : not_ripe - prodb: [6.490135e-11 1.000000e+00] -elapsed time: 0.002223968505859375  s\n",
            "Result:  : not_ripe - prodb: [0.0014405  0.99855953] -elapsed time: 0.0022122859954833984  s\n"
          ],
          "name": "stdout"
        },
        {
          "output_type": "stream",
          "text": [
            "\r 26%|██▋       | 40/151 [00:08<00:25,  4.32it/s]"
          ],
          "name": "stderr"
        },
        {
          "output_type": "stream",
          "text": [
            "final_image.shape :  (720, 1280, 3)\n",
            "Result:  : not_ripe - prodb: [0.01118786 0.9888122 ] -elapsed time: 0.0037801265716552734  s\n",
            "Result:  : not_ripe - prodb: [1.4775574e-04 9.9985218e-01] -elapsed time: 0.002702951431274414  s\n",
            "Result:  : not_ripe - prodb: [1.6043148e-05 9.9998391e-01] -elapsed time: 0.0023751258850097656  s\n",
            "Result:  : not_ripe - prodb: [2.2299519e-05 9.9997771e-01] -elapsed time: 0.0028777122497558594  s\n",
            "Result:  : not_ripe - prodb: [0.03654014 0.96345985] -elapsed time: 0.002266407012939453  s\n",
            "Result:  : not_ripe - prodb: [8.224157e-09 1.000000e+00] -elapsed time: 0.002365589141845703  s\n",
            "Result:  : not_ripe - prodb: [7.256880e-05 9.999274e-01] -elapsed time: 0.0021805763244628906  s\n",
            "Result:  : not_ripe - prodb: [5.861769e-08 1.000000e+00] -elapsed time: 0.0021910667419433594  s\n",
            "Result:  : not_ripe - prodb: [2.4121144e-07 9.9999976e-01] -elapsed time: 0.0022165775299072266  s\n",
            "Result:  : not_ripe - prodb: [0.18730134 0.81269866] -elapsed time: 0.002491474151611328  s\n",
            "Result:  : ripe - prodb: [0.9584077  0.04159228] -elapsed time: 0.00255584716796875  s\n",
            "Result:  : not_ripe - prodb: [8.6331011e-07 9.9999917e-01] -elapsed time: 0.002380847930908203  s\n",
            "Result:  : not_ripe - prodb: [2.8421239e-06 9.9999714e-01] -elapsed time: 0.0024352073669433594  s\n",
            "Result:  : not_ripe - prodb: [2.1546814e-04 9.9978453e-01] -elapsed time: 0.0021469593048095703  s\n",
            "Result:  : ripe - prodb: [9.9916184e-01 8.3814550e-04] -elapsed time: 0.002356290817260742  s\n",
            "Result:  : not_ripe - prodb: [6.405939e-05 9.999360e-01] -elapsed time: 0.0024209022521972656  s\n"
          ],
          "name": "stdout"
        },
        {
          "output_type": "stream",
          "text": [
            "\r 27%|██▋       | 41/151 [00:08<00:24,  4.41it/s]"
          ],
          "name": "stderr"
        },
        {
          "output_type": "stream",
          "text": [
            "final_image.shape :  (720, 1280, 3)\n",
            "Result:  : not_ripe - prodb: [0.00556844 0.99443156] -elapsed time: 0.0032186508178710938  s\n",
            "Result:  : not_ripe - prodb: [0.31126785 0.68873215] -elapsed time: 0.0029418468475341797  s\n",
            "Result:  : not_ripe - prodb: [9.635778e-09 1.000000e+00] -elapsed time: 0.002541780471801758  s\n",
            "Result:  : not_ripe - prodb: [1.2799379e-04 9.9987197e-01] -elapsed time: 0.0024633407592773438  s\n",
            "Result:  : ripe - prodb: [9.9996555e-01 3.4487883e-05] -elapsed time: 0.002411365509033203  s\n",
            "Result:  : not_ripe - prodb: [1.4532166e-07 9.9999988e-01] -elapsed time: 0.002777576446533203  s\n",
            "Result:  : not_ripe - prodb: [0.00832153 0.9916785 ] -elapsed time: 0.0024194717407226562  s\n",
            "Result:  : ripe - prodb: [9.9998236e-01 1.7680792e-05] -elapsed time: 0.0023353099822998047  s\n"
          ],
          "name": "stdout"
        },
        {
          "output_type": "stream",
          "text": [
            "\r 28%|██▊       | 42/151 [00:09<00:24,  4.39it/s]"
          ],
          "name": "stderr"
        },
        {
          "output_type": "stream",
          "text": [
            "final_image.shape :  (720, 1280, 3)\n",
            "Result:  : not_ripe - prodb: [0.00532482 0.99467516] -elapsed time: 0.0032279491424560547  s\n",
            "Result:  : not_ripe - prodb: [0.27630264 0.72369736] -elapsed time: 0.002576112747192383  s\n",
            "Result:  : not_ripe - prodb: [3.680505e-06 9.999963e-01] -elapsed time: 0.0023775100708007812  s\n",
            "Result:  : not_ripe - prodb: [8.564057e-05 9.999144e-01] -elapsed time: 0.0025167465209960938  s\n",
            "Result:  : not_ripe - prodb: [0.03691132 0.96308863] -elapsed time: 0.002439737319946289  s\n",
            "Result:  : not_ripe - prodb: [4.7021647e-08 1.0000000e+00] -elapsed time: 0.0023238658905029297  s\n",
            "Result:  : not_ripe - prodb: [4.3907147e-04 9.9956089e-01] -elapsed time: 0.0023310184478759766  s\n",
            "Result:  : not_ripe - prodb: [0.00998734 0.99001265] -elapsed time: 0.0025124549865722656  s\n",
            "Result:  : ripe - prodb: [9.9997449e-01 2.5457175e-05] -elapsed time: 0.002535581588745117  s\n",
            "Result:  : not_ripe - prodb: [0.00304318 0.9969568 ] -elapsed time: 0.0023784637451171875  s\n",
            "Result:  : not_ripe - prodb: [1.3198743e-07 9.9999988e-01] -elapsed time: 0.0022420883178710938  s\n",
            "Result:  : not_ripe - prodb: [6.916487e-07 9.999993e-01] -elapsed time: 0.0022470951080322266  s\n"
          ],
          "name": "stdout"
        },
        {
          "output_type": "stream",
          "text": [
            "\r 28%|██▊       | 43/151 [00:09<00:29,  3.62it/s]"
          ],
          "name": "stderr"
        },
        {
          "output_type": "stream",
          "text": [
            "final_image.shape :  (720, 1280, 3)\n",
            "Result:  : not_ripe - prodb: [0.00468369 0.99531627] -elapsed time: 0.003704071044921875  s\n",
            "Result:  : not_ripe - prodb: [0.13767606 0.86232394] -elapsed time: 0.005343198776245117  s\n",
            "Result:  : not_ripe - prodb: [3.2060564e-04 9.9967945e-01] -elapsed time: 0.0030727386474609375  s\n",
            "Result:  : not_ripe - prodb: [0.14432436 0.8556757 ] -elapsed time: 0.002955198287963867  s\n",
            "Result:  : ripe - prodb: [9.9998879e-01 1.1258405e-05] -elapsed time: 0.0031282901763916016  s\n",
            "Result:  : not_ripe - prodb: [3.2451228e-04 9.9967551e-01] -elapsed time: 0.00295257568359375  s\n",
            "Result:  : not_ripe - prodb: [1.0335106e-05 9.9998963e-01] -elapsed time: 0.0031785964965820312  s\n",
            "Result:  : ripe - prodb: [9.992236e-01 7.763899e-04] -elapsed time: 0.003546476364135742  s\n",
            "Result:  : not_ripe - prodb: [2.409285e-06 9.999976e-01] -elapsed time: 0.0033254623413085938  s\n",
            "Result:  : not_ripe - prodb: [1.449087e-07 9.999999e-01] -elapsed time: 0.0033254623413085938  s\n",
            "Result:  : not_ripe - prodb: [0.01968036 0.9803197 ] -elapsed time: 0.003176450729370117  s\n",
            "Result:  : not_ripe - prodb: [1.6739676e-05 9.9998331e-01] -elapsed time: 0.003179788589477539  s\n",
            "Result:  : not_ripe - prodb: [8.9485093e-04 9.9910516e-01] -elapsed time: 0.003283977508544922  s\n",
            "Result:  : ripe - prodb: [9.9985325e-01 1.4671807e-04] -elapsed time: 0.003265857696533203  s\n",
            "Result:  : not_ripe - prodb: [3.2564654e-05 9.9996746e-01] -elapsed time: 0.003172636032104492  s\n",
            "Result:  : not_ripe - prodb: [0.00296973 0.99703026] -elapsed time: 0.003289461135864258  s\n",
            "Result:  : not_ripe - prodb: [1.9778575e-08 1.0000000e+00] -elapsed time: 0.003467559814453125  s\n"
          ],
          "name": "stdout"
        },
        {
          "output_type": "stream",
          "text": [
            "\r 29%|██▉       | 44/151 [00:09<00:31,  3.41it/s]"
          ],
          "name": "stderr"
        },
        {
          "output_type": "stream",
          "text": [
            "final_image.shape :  (720, 1280, 3)\n",
            "Result:  : not_ripe - prodb: [0.00448984 0.9955102 ] -elapsed time: 0.004723787307739258  s\n",
            "Result:  : not_ripe - prodb: [2.4888845e-04 9.9975115e-01] -elapsed time: 0.003824472427368164  s\n",
            "Result:  : not_ripe - prodb: [0.09692249 0.90307754] -elapsed time: 0.003946781158447266  s\n",
            "Result:  : not_ripe - prodb: [2.1126084e-06 9.9999785e-01] -elapsed time: 0.003576040267944336  s\n",
            "Result:  : not_ripe - prodb: [0.11062945 0.88937056] -elapsed time: 0.0034041404724121094  s\n",
            "Result:  : ripe - prodb: [9.9998927e-01 1.0748405e-05] -elapsed time: 0.0035371780395507812  s\n",
            "Result:  : ripe - prodb: [0.9985273  0.00147265] -elapsed time: 0.002533435821533203  s\n",
            "Result:  : not_ripe - prodb: [0.00130342 0.9986966 ] -elapsed time: 0.002424955368041992  s\n",
            "Result:  : not_ripe - prodb: [0.00232864 0.9976713 ] -elapsed time: 0.002341032028198242  s\n",
            "Result:  : not_ripe - prodb: [0.02737716 0.9726228 ] -elapsed time: 0.0024530887603759766  s\n",
            "Result:  : not_ripe - prodb: [7.517334e-08 9.999999e-01] -elapsed time: 0.0023224353790283203  s\n",
            "Result:  : not_ripe - prodb: [1.9822119e-08 1.0000000e+00] -elapsed time: 0.002350330352783203  s\n",
            "Result:  : not_ripe - prodb: [4.183200e-06 9.999958e-01] -elapsed time: 0.0022819042205810547  s\n",
            "Result:  : not_ripe - prodb: [0.00149765 0.9985024 ] -elapsed time: 0.0022623538970947266  s\n",
            "Result:  : ripe - prodb: [9.9990368e-01 9.6261545e-05] -elapsed time: 0.0022585391998291016  s\n"
          ],
          "name": "stdout"
        },
        {
          "output_type": "stream",
          "text": [
            "\r 30%|██▉       | 45/151 [00:10<00:29,  3.65it/s]"
          ],
          "name": "stderr"
        },
        {
          "output_type": "stream",
          "text": [
            "final_image.shape :  (720, 1280, 3)\n",
            "Result:  : not_ripe - prodb: [0.00231707 0.9976829 ] -elapsed time: 0.003164052963256836  s\n",
            "Result:  : not_ripe - prodb: [0.09140792 0.90859205] -elapsed time: 0.0025780200958251953  s\n",
            "Result:  : not_ripe - prodb: [0.03303593 0.9669641 ] -elapsed time: 0.002562999725341797  s\n",
            "Result:  : not_ripe - prodb: [9.493074e-05 9.999051e-01] -elapsed time: 0.0023298263549804688  s\n",
            "Result:  : not_ripe - prodb: [6.1702775e-07 9.9999940e-01] -elapsed time: 0.0023543834686279297  s\n",
            "Result:  : ripe - prodb: [9.9998498e-01 1.5071561e-05] -elapsed time: 0.0023751258850097656  s\n",
            "Result:  : not_ripe - prodb: [1.685715e-08 1.000000e+00] -elapsed time: 0.002317667007446289  s\n",
            "Result:  : not_ripe - prodb: [0.00469093 0.99530905] -elapsed time: 0.0023956298828125  s\n",
            "Result:  : not_ripe - prodb: [1.8270093e-05 9.9998176e-01] -elapsed time: 0.002339601516723633  s\n",
            "Result:  : not_ripe - prodb: [5.8830733e-04 9.9941170e-01] -elapsed time: 0.0022890567779541016  s\n",
            "Result:  : not_ripe - prodb: [3.0003340e-04 9.9969995e-01] -elapsed time: 0.0022766590118408203  s\n",
            "Result:  : not_ripe - prodb: [1.6523364e-04 9.9983478e-01] -elapsed time: 0.003631114959716797  s\n",
            "Result:  : ripe - prodb: [0.9928698  0.00713023] -elapsed time: 0.00279998779296875  s\n"
          ],
          "name": "stdout"
        },
        {
          "output_type": "stream",
          "text": [
            "\r 30%|███       | 46/151 [00:10<00:28,  3.75it/s]"
          ],
          "name": "stderr"
        },
        {
          "output_type": "stream",
          "text": [
            "final_image.shape :  (720, 1280, 3)\n",
            "Result:  : not_ripe - prodb: [0.00295909 0.9970409 ] -elapsed time: 0.003347635269165039  s\n",
            "Result:  : not_ripe - prodb: [0.10158031 0.89841974] -elapsed time: 0.0028922557830810547  s\n",
            "Result:  : not_ripe - prodb: [1.1016507e-04 9.9988985e-01] -elapsed time: 0.0027310848236083984  s\n",
            "Result:  : not_ripe - prodb: [4.437809e-07 9.999995e-01] -elapsed time: 0.0025556087493896484  s\n",
            "Result:  : ripe - prodb: [9.999902e-01 9.782363e-06] -elapsed time: 0.002492666244506836  s\n",
            "Result:  : not_ripe - prodb: [4.3630626e-04 9.9956363e-01] -elapsed time: 0.0024085044860839844  s\n",
            "Result:  : not_ripe - prodb: [3.6500697e-07 9.9999964e-01] -elapsed time: 0.0023615360260009766  s\n",
            "Result:  : ripe - prodb: [0.99873275 0.0012673 ] -elapsed time: 0.0023703575134277344  s\n",
            "Result:  : ripe - prodb: [9.996737e-01 3.262578e-04] -elapsed time: 0.0024166107177734375  s\n",
            "Result:  : not_ripe - prodb: [0.00131497 0.99868506] -elapsed time: 0.0024428367614746094  s\n",
            "Result:  : not_ripe - prodb: [3.9172377e-08 1.0000000e+00] -elapsed time: 0.002433300018310547  s\n",
            "Result:  : ripe - prodb: [9.9930656e-01 6.9339026e-04] -elapsed time: 0.002483844757080078  s\n",
            "Result:  : not_ripe - prodb: [0.00113129 0.99886864] -elapsed time: 0.0029144287109375  s\n"
          ],
          "name": "stdout"
        },
        {
          "output_type": "stream",
          "text": [
            "\r 31%|███       | 47/151 [00:10<00:29,  3.54it/s]"
          ],
          "name": "stderr"
        },
        {
          "output_type": "stream",
          "text": [
            "final_image.shape :  (720, 1280, 3)\n",
            "Result:  : not_ripe - prodb: [0.00683478 0.9931652 ] -elapsed time: 0.00481867790222168  s\n",
            "Result:  : not_ripe - prodb: [0.03663477 0.96336526] -elapsed time: 0.003763914108276367  s\n",
            "Result:  : ripe - prodb: [9.9998939e-01 1.0552451e-05] -elapsed time: 0.003554105758666992  s\n",
            "Result:  : not_ripe - prodb: [1.5381454e-05 9.9998462e-01] -elapsed time: 0.0024886131286621094  s\n",
            "Result:  : ripe - prodb: [0.9798014  0.02019863] -elapsed time: 0.0023298263549804688  s\n",
            "Result:  : not_ripe - prodb: [1.9486544e-07 9.9999976e-01] -elapsed time: 0.0022873878479003906  s\n",
            "Result:  : not_ripe - prodb: [4.3185037e-06 9.9999571e-01] -elapsed time: 0.0024902820587158203  s\n",
            "Result:  : not_ripe - prodb: [0.00121415 0.9987859 ] -elapsed time: 0.002295255661010742  s\n",
            "Result:  : not_ripe - prodb: [3.529804e-05 9.999647e-01] -elapsed time: 0.0024416446685791016  s\n",
            "Result:  : not_ripe - prodb: [1.4746629e-08 1.0000000e+00] -elapsed time: 0.004612922668457031  s\n",
            "Result:  : ripe - prodb: [9.9997413e-01 2.5918349e-05] -elapsed time: 0.0037386417388916016  s\n",
            "Result:  : not_ripe - prodb: [8.4740341e-06 9.9999154e-01] -elapsed time: 0.002741098403930664  s\n",
            "Result:  : not_ripe - prodb: [2.4915249e-08 1.0000000e+00] -elapsed time: 0.0029947757720947266  s\n",
            "Result:  : not_ripe - prodb: [1.4678825e-06 9.9999857e-01] -elapsed time: 0.002704620361328125  s\n",
            "Result:  : ripe - prodb: [9.9958867e-01 4.1129743e-04] -elapsed time: 0.003247499465942383  s\n",
            "Result:  : not_ripe - prodb: [0.44475538 0.5552446 ] -elapsed time: 0.0025925636291503906  s\n"
          ],
          "name": "stdout"
        },
        {
          "output_type": "stream",
          "text": [
            "\r 32%|███▏      | 48/151 [00:10<00:29,  3.45it/s]"
          ],
          "name": "stderr"
        },
        {
          "output_type": "stream",
          "text": [
            "final_image.shape :  (720, 1280, 3)\n",
            "Result:  : not_ripe - prodb: [0.00660315 0.9933969 ] -elapsed time: 0.0036776065826416016  s\n",
            "Result:  : not_ripe - prodb: [0.06060177 0.9393982 ] -elapsed time: 0.0030603408813476562  s\n",
            "Result:  : ripe - prodb: [9.9998748e-01 1.2473959e-05] -elapsed time: 0.003247499465942383  s\n",
            "Result:  : not_ripe - prodb: [7.1249201e-06 9.9999285e-01] -elapsed time: 0.003106355667114258  s\n",
            "Result:  : not_ripe - prodb: [5.9264103e-08 1.0000000e+00] -elapsed time: 0.0032939910888671875  s\n",
            "Result:  : not_ripe - prodb: [1.4099812e-04 9.9985898e-01] -elapsed time: 0.0030121803283691406  s\n",
            "Result:  : not_ripe - prodb: [1.1262013e-05 9.9998879e-01] -elapsed time: 0.0028679370880126953  s\n",
            "Result:  : ripe - prodb: [9.9991775e-01 8.2276325e-05] -elapsed time: 0.002836942672729492  s\n",
            "Result:  : not_ripe - prodb: [7.5136503e-04 9.9924856e-01] -elapsed time: 0.005312204360961914  s\n",
            "Result:  : not_ripe - prodb: [6.4244267e-04 9.9935752e-01] -elapsed time: 0.0058786869049072266  s\n",
            "Result:  : ripe - prodb: [9.9952602e-01 4.7400614e-04] -elapsed time: 0.0034101009368896484  s\n",
            "Result:  : not_ripe - prodb: [1.789129e-06 9.999982e-01] -elapsed time: 0.0024046897888183594  s\n"
          ],
          "name": "stdout"
        },
        {
          "output_type": "stream",
          "text": [
            "\r 32%|███▏      | 49/151 [00:11<00:29,  3.51it/s]"
          ],
          "name": "stderr"
        },
        {
          "output_type": "stream",
          "text": [
            "final_image.shape :  (720, 1280, 3)\n",
            "Result:  : not_ripe - prodb: [0.01370725 0.9862927 ] -elapsed time: 0.003195047378540039  s\n",
            "Result:  : ripe - prodb: [9.9997616e-01 2.3886671e-05] -elapsed time: 0.0024328231811523438  s\n",
            "Result:  : not_ripe - prodb: [7.958138e-09 1.000000e+00] -elapsed time: 0.0022394657135009766  s\n",
            "Result:  : not_ripe - prodb: [0.01476597 0.9852341 ] -elapsed time: 0.0022139549255371094  s\n",
            "Result:  : not_ripe - prodb: [0.04694009 0.95305985] -elapsed time: 0.0021851062774658203  s\n",
            "Result:  : not_ripe - prodb: [1.9554695e-04 9.9980444e-01] -elapsed time: 0.002229452133178711  s\n",
            "Result:  : not_ripe - prodb: [2.218568e-04 9.997782e-01] -elapsed time: 0.0022161006927490234  s\n",
            "Result:  : ripe - prodb: [9.9937755e-01 6.2248559e-04] -elapsed time: 0.004035472869873047  s\n",
            "Result:  : not_ripe - prodb: [1.807242e-05 9.999819e-01] -elapsed time: 0.002332925796508789  s\n",
            "Result:  : not_ripe - prodb: [2.1093722e-07 9.9999976e-01] -elapsed time: 0.0021686553955078125  s\n",
            "Result:  : not_ripe - prodb: [2.8001380e-06 9.9999726e-01] -elapsed time: 0.002169370651245117  s\n",
            "Result:  : not_ripe - prodb: [5.094696e-06 9.999949e-01] -elapsed time: 0.002275705337524414  s\n",
            "Result:  : not_ripe - prodb: [2.592502e-06 9.999974e-01] -elapsed time: 0.0028429031372070312  s\n"
          ],
          "name": "stdout"
        },
        {
          "output_type": "stream",
          "text": [
            "\r 33%|███▎      | 50/151 [00:11<00:29,  3.44it/s]"
          ],
          "name": "stderr"
        },
        {
          "output_type": "stream",
          "text": [
            "final_image.shape :  (720, 1280, 3)\n",
            "Result:  : not_ripe - prodb: [0.01026179 0.98973817] -elapsed time: 0.0037822723388671875  s\n",
            "Result:  : not_ripe - prodb: [0.01575046 0.98424953] -elapsed time: 0.0031099319458007812  s\n",
            "Result:  : not_ripe - prodb: [5.8141088e-09 1.0000000e+00] -elapsed time: 0.002972841262817383  s\n",
            "Result:  : not_ripe - prodb: [1.305623e-05 9.999869e-01] -elapsed time: 0.0031299591064453125  s\n",
            "Result:  : not_ripe - prodb: [4.9344093e-05 9.9995065e-01] -elapsed time: 0.002411365509033203  s\n",
            "Result:  : not_ripe - prodb: [0.00156839 0.9984316 ] -elapsed time: 0.002418041229248047  s\n",
            "Result:  : not_ripe - prodb: [1.9108546e-07 9.9999976e-01] -elapsed time: 0.0022971630096435547  s\n",
            "Result:  : ripe - prodb: [9.9996400e-01 3.6057314e-05] -elapsed time: 0.0022192001342773438  s\n",
            "Result:  : not_ripe - prodb: [6.2999461e-05 9.9993694e-01] -elapsed time: 0.002288341522216797  s\n",
            "Result:  : not_ripe - prodb: [9.306424e-08 9.999999e-01] -elapsed time: 0.0023832321166992188  s\n",
            "Result:  : not_ripe - prodb: [1.4898446e-05 9.9998510e-01] -elapsed time: 0.0022568702697753906  s\n"
          ],
          "name": "stdout"
        },
        {
          "output_type": "stream",
          "text": [
            "\r 34%|███▍      | 51/151 [00:11<00:29,  3.36it/s]"
          ],
          "name": "stderr"
        },
        {
          "output_type": "stream",
          "text": [
            "final_image.shape :  (720, 1280, 3)\n",
            "Result:  : not_ripe - prodb: [0.02350114 0.9764989 ] -elapsed time: 0.003902435302734375  s\n",
            "Result:  : not_ripe - prodb: [0.00115895 0.9988411 ] -elapsed time: 0.0035736560821533203  s\n",
            "Result:  : not_ripe - prodb: [0.02364011 0.9763599 ] -elapsed time: 0.0031859874725341797  s\n",
            "Result:  : not_ripe - prodb: [4.3472284e-07 9.9999952e-01] -elapsed time: 0.0030918121337890625  s\n",
            "Result:  : not_ripe - prodb: [1.0541188e-04 9.9989462e-01] -elapsed time: 0.0029184818267822266  s\n",
            "Result:  : not_ripe - prodb: [7.6782345e-07 9.9999928e-01] -elapsed time: 0.0029201507568359375  s\n",
            "Result:  : not_ripe - prodb: [2.9964751e-06 9.9999702e-01] -elapsed time: 0.0027151107788085938  s\n",
            "Result:  : not_ripe - prodb: [7.8033452e-07 9.9999917e-01] -elapsed time: 0.002649068832397461  s\n"
          ],
          "name": "stdout"
        },
        {
          "output_type": "stream",
          "text": [
            "\r 34%|███▍      | 52/151 [00:12<00:30,  3.30it/s]"
          ],
          "name": "stderr"
        },
        {
          "output_type": "stream",
          "text": [
            "final_image.shape :  (720, 1280, 3)\n",
            "Result:  : not_ripe - prodb: [0.01052599 0.989474  ] -elapsed time: 0.0037288665771484375  s\n",
            "Result:  : not_ripe - prodb: [8.5249351e-04 9.9914753e-01] -elapsed time: 0.0030481815338134766  s\n",
            "Result:  : not_ripe - prodb: [2.1030896e-04 9.9978966e-01] -elapsed time: 0.0029299259185791016  s\n",
            "Result:  : ripe - prodb: [9.9957365e-01 4.2631594e-04] -elapsed time: 0.003191709518432617  s\n",
            "Result:  : not_ripe - prodb: [4.6107954e-05 9.9995387e-01] -elapsed time: 0.0028388500213623047  s\n",
            "Result:  : ripe - prodb: [0.91711885 0.08288114] -elapsed time: 0.0027618408203125  s\n",
            "Result:  : not_ripe - prodb: [3.882271e-08 1.000000e+00] -elapsed time: 0.0028221607208251953  s\n"
          ],
          "name": "stdout"
        },
        {
          "output_type": "stream",
          "text": [
            "\r 35%|███▌      | 53/151 [00:12<00:29,  3.32it/s]"
          ],
          "name": "stderr"
        },
        {
          "output_type": "stream",
          "text": [
            "final_image.shape :  (720, 1280, 3)\n",
            "Result:  : not_ripe - prodb: [0.01332789 0.98667204] -elapsed time: 0.003242015838623047  s\n",
            "Result:  : not_ripe - prodb: [1.5639864e-05 9.9998438e-01] -elapsed time: 0.0026175975799560547  s\n",
            "Result:  : not_ripe - prodb: [1.9665273e-04 9.9980336e-01] -elapsed time: 0.0024166107177734375  s\n",
            "Result:  : not_ripe - prodb: [0.00897489 0.9910251 ] -elapsed time: 0.002969980239868164  s\n",
            "Result:  : ripe - prodb: [0.9140533  0.08594672] -elapsed time: 0.0027005672454833984  s\n",
            "Result:  : not_ripe - prodb: [0.1934378 0.8065622] -elapsed time: 0.0033147335052490234  s\n",
            "Result:  : ripe - prodb: [0.7444186 0.2555814] -elapsed time: 0.0031175613403320312  s\n",
            "Result:  : not_ripe - prodb: [4.0731428e-04 9.9959272e-01] -elapsed time: 0.0033521652221679688  s\n",
            "Result:  : not_ripe - prodb: [3.7472826e-04 9.9962521e-01] -elapsed time: 0.002619504928588867  s\n",
            "Result:  : ripe - prodb: [0.9741977  0.02580231] -elapsed time: 0.0025420188903808594  s\n"
          ],
          "name": "stdout"
        },
        {
          "output_type": "stream",
          "text": [
            "\r 36%|███▌      | 54/151 [00:12<00:28,  3.39it/s]"
          ],
          "name": "stderr"
        },
        {
          "output_type": "stream",
          "text": [
            "final_image.shape :  (720, 1280, 3)\n",
            "Result:  : not_ripe - prodb: [0.01342939 0.98657066] -elapsed time: 0.003418445587158203  s\n",
            "Result:  : not_ripe - prodb: [0.14327419 0.8567259 ] -elapsed time: 0.0029647350311279297  s\n",
            "Result:  : not_ripe - prodb: [0.48296124 0.51703876] -elapsed time: 0.0028345584869384766  s\n",
            "Result:  : not_ripe - prodb: [9.4856086e-06 9.9999046e-01] -elapsed time: 0.002751588821411133  s\n",
            "Result:  : not_ripe - prodb: [0.02561471 0.9743853 ] -elapsed time: 0.0024399757385253906  s\n",
            "Result:  : not_ripe - prodb: [9.8078635e-05 9.9990189e-01] -elapsed time: 0.0024220943450927734  s\n",
            "Result:  : not_ripe - prodb: [0.09755374 0.90244627] -elapsed time: 0.0024607181549072266  s\n",
            "Result:  : not_ripe - prodb: [0.00461806 0.9953819 ] -elapsed time: 0.002421855926513672  s\n",
            "Result:  : not_ripe - prodb: [4.6875077e-05 9.9995315e-01] -elapsed time: 0.0025441646575927734  s\n",
            "Result:  : not_ripe - prodb: [8.5026104e-06 9.9999154e-01] -elapsed time: 0.002463817596435547  s\n",
            "Result:  : not_ripe - prodb: [0.296556   0.70344394] -elapsed time: 0.0024652481079101562  s\n",
            "Result:  : not_ripe - prodb: [2.3031798e-05 9.9997699e-01] -elapsed time: 0.002500295639038086  s\n"
          ],
          "name": "stdout"
        },
        {
          "output_type": "stream",
          "text": [
            "\r 36%|███▋      | 55/151 [00:13<00:28,  3.35it/s]"
          ],
          "name": "stderr"
        },
        {
          "output_type": "stream",
          "text": [
            "final_image.shape :  (720, 1280, 3)\n",
            "Result:  : not_ripe - prodb: [0.0281452  0.97185475] -elapsed time: 0.0043141841888427734  s\n",
            "Result:  : not_ripe - prodb: [0.02619151 0.97380847] -elapsed time: 0.0040149688720703125  s\n",
            "Result:  : not_ripe - prodb: [1.9457888e-05 9.9998057e-01] -elapsed time: 0.0038623809814453125  s\n",
            "Result:  : not_ripe - prodb: [0.06888931 0.9311107 ] -elapsed time: 0.0037233829498291016  s\n",
            "Result:  : not_ripe - prodb: [4.8061193e-05 9.9995196e-01] -elapsed time: 0.0038394927978515625  s\n",
            "Result:  : not_ripe - prodb: [0.05360411 0.9463959 ] -elapsed time: 0.003709077835083008  s\n",
            "Result:  : not_ripe - prodb: [0.23872599 0.76127404] -elapsed time: 0.003682374954223633  s\n",
            "Result:  : not_ripe - prodb: [7.049647e-04 9.992950e-01] -elapsed time: 0.0033435821533203125  s\n"
          ],
          "name": "stdout"
        },
        {
          "output_type": "stream",
          "text": [
            "\r 37%|███▋      | 56/151 [00:13<00:28,  3.30it/s]"
          ],
          "name": "stderr"
        },
        {
          "output_type": "stream",
          "text": [
            "final_image.shape :  (720, 1280, 3)\n",
            "Result:  : not_ripe - prodb: [0.02354416 0.9764558 ] -elapsed time: 0.003939151763916016  s\n",
            "Result:  : not_ripe - prodb: [0.08221765 0.91778237] -elapsed time: 0.0033752918243408203  s\n",
            "Result:  : not_ripe - prodb: [0.01799469 0.98200536] -elapsed time: 0.003374338150024414  s\n",
            "Result:  : not_ripe - prodb: [0.03382452 0.9661755 ] -elapsed time: 0.00311279296875  s\n",
            "Result:  : not_ripe - prodb: [1.3187841e-04 9.9986815e-01] -elapsed time: 0.0029821395874023438  s\n",
            "Result:  : not_ripe - prodb: [5.635328e-06 9.999944e-01] -elapsed time: 0.002941608428955078  s\n",
            "Result:  : not_ripe - prodb: [0.15235262 0.8476474 ] -elapsed time: 0.003529787063598633  s\n",
            "Result:  : not_ripe - prodb: [0.02806119 0.97193885] -elapsed time: 0.003991365432739258  s\n",
            "Result:  : not_ripe - prodb: [5.3375540e-04 9.9946624e-01] -elapsed time: 0.0038030147552490234  s\n",
            "Result:  : not_ripe - prodb: [5.4876966e-07 9.9999940e-01] -elapsed time: 0.0037145614624023438  s\n"
          ],
          "name": "stdout"
        },
        {
          "output_type": "stream",
          "text": [
            "\r 38%|███▊      | 57/151 [00:13<00:27,  3.36it/s]"
          ],
          "name": "stderr"
        },
        {
          "output_type": "stream",
          "text": [
            "final_image.shape :  (720, 1280, 3)\n",
            "Result:  : not_ripe - prodb: [0.06832442 0.9316756 ] -elapsed time: 0.007370471954345703  s\n",
            "Result:  : not_ripe - prodb: [0.06345493 0.9365451 ] -elapsed time: 0.00413060188293457  s\n",
            "Result:  : not_ripe - prodb: [0.11273813 0.8872618 ] -elapsed time: 0.00386810302734375  s\n",
            "Result:  : not_ripe - prodb: [0.02384093 0.97615904] -elapsed time: 0.0037004947662353516  s\n",
            "Result:  : not_ripe - prodb: [3.394351e-04 9.996606e-01] -elapsed time: 0.003164529800415039  s\n",
            "Result:  : not_ripe - prodb: [0.29984158 0.70015836] -elapsed time: 0.003153085708618164  s\n",
            "Result:  : not_ripe - prodb: [4.1845165e-06 9.9999583e-01] -elapsed time: 0.004914522171020508  s\n"
          ],
          "name": "stdout"
        },
        {
          "output_type": "stream",
          "text": [
            "\r 38%|███▊      | 58/151 [00:13<00:28,  3.32it/s]"
          ],
          "name": "stderr"
        },
        {
          "output_type": "stream",
          "text": [
            "final_image.shape :  (720, 1280, 3)\n",
            "Result:  : not_ripe - prodb: [0.01767196 0.98232806] -elapsed time: 0.0042798519134521484  s\n",
            "Result:  : not_ripe - prodb: [0.04663088 0.9533691 ] -elapsed time: 0.003693819046020508  s\n",
            "Result:  : not_ripe - prodb: [7.5394513e-05 9.9992454e-01] -elapsed time: 0.003699064254760742  s\n",
            "Result:  : not_ripe - prodb: [0.11077985 0.8892202 ] -elapsed time: 0.0035088062286376953  s\n",
            "Result:  : not_ripe - prodb: [1.9244073e-06 9.9999809e-01] -elapsed time: 0.003213167190551758  s\n",
            "Result:  : not_ripe - prodb: [0.1210902 0.8789098] -elapsed time: 0.0032715797424316406  s\n",
            "Result:  : not_ripe - prodb: [0.37778994 0.6222101 ] -elapsed time: 0.0031969547271728516  s\n",
            "Result:  : not_ripe - prodb: [2.1844226e-05 9.9997818e-01] -elapsed time: 0.0035712718963623047  s\n",
            "Result:  : not_ripe - prodb: [2.0209884e-05 9.9997973e-01] -elapsed time: 0.003471851348876953  s\n",
            "Result:  : not_ripe - prodb: [0.08697318 0.9130268 ] -elapsed time: 0.0035181045532226562  s\n"
          ],
          "name": "stdout"
        },
        {
          "output_type": "stream",
          "text": [
            "\r 39%|███▉      | 59/151 [00:14<00:27,  3.39it/s]"
          ],
          "name": "stderr"
        },
        {
          "output_type": "stream",
          "text": [
            "final_image.shape :  (720, 1280, 3)\n",
            "Result:  : not_ripe - prodb: [0.05077397 0.9492261 ] -elapsed time: 0.004683971405029297  s\n",
            "Result:  : not_ripe - prodb: [0.00603682 0.9939632 ] -elapsed time: 0.0043201446533203125  s\n",
            "Result:  : not_ripe - prodb: [1.058948e-05 9.999894e-01] -elapsed time: 0.0036203861236572266  s\n",
            "Result:  : not_ripe - prodb: [0.36720082 0.63279915] -elapsed time: 0.0034165382385253906  s\n",
            "Result:  : ripe - prodb: [0.5190201  0.48097992] -elapsed time: 0.0029647350311279297  s\n",
            "Result:  : not_ripe - prodb: [4.2095726e-06 9.9999583e-01] -elapsed time: 0.002976655960083008  s\n",
            "Result:  : not_ripe - prodb: [0.17074902 0.82925105] -elapsed time: 0.0030329227447509766  s\n",
            "Result:  : not_ripe - prodb: [3.6183210e-05 9.9996376e-01] -elapsed time: 0.0030515193939208984  s\n",
            "Result:  : not_ripe - prodb: [0.00268674 0.9973132 ] -elapsed time: 0.004137992858886719  s\n"
          ],
          "name": "stdout"
        },
        {
          "output_type": "stream",
          "text": [
            "\r 40%|███▉      | 60/151 [00:14<00:26,  3.46it/s]"
          ],
          "name": "stderr"
        },
        {
          "output_type": "stream",
          "text": [
            "final_image.shape :  (720, 1280, 3)\n",
            "Result:  : not_ripe - prodb: [0.05376691 0.9462331 ] -elapsed time: 0.004162788391113281  s\n",
            "Result:  : not_ripe - prodb: [3.8159956e-10 1.0000000e+00] -elapsed time: 0.0034432411193847656  s\n",
            "Result:  : ripe - prodb: [0.581848 0.418152] -elapsed time: 0.0033028125762939453  s\n",
            "Result:  : ripe - prodb: [0.6430848  0.35691515] -elapsed time: 0.00416111946105957  s\n",
            "Result:  : not_ripe - prodb: [5.6039957e-05 9.9994397e-01] -elapsed time: 0.003444671630859375  s\n",
            "Result:  : not_ripe - prodb: [0.0020352  0.99796486] -elapsed time: 0.0038928985595703125  s\n",
            "Result:  : not_ripe - prodb: [1.6945185e-05 9.9998307e-01] -elapsed time: 0.003962039947509766  s\n",
            "Result:  : not_ripe - prodb: [2.0745173e-08 1.0000000e+00] -elapsed time: 0.0039212703704833984  s\n",
            "Result:  : not_ripe - prodb: [0.24030101 0.7596989 ] -elapsed time: 0.004004716873168945  s\n",
            "Result:  : not_ripe - prodb: [0.00846502 0.99153495] -elapsed time: 0.0038712024688720703  s\n"
          ],
          "name": "stdout"
        },
        {
          "output_type": "stream",
          "text": [
            "\r 40%|████      | 61/151 [00:14<00:25,  3.56it/s]"
          ],
          "name": "stderr"
        },
        {
          "output_type": "stream",
          "text": [
            "final_image.shape :  (720, 1280, 3)\n",
            "Result:  : not_ripe - prodb: [0.08232171 0.91767824] -elapsed time: 0.004170417785644531  s\n",
            "Result:  : not_ripe - prodb: [7.7876808e-07 9.9999917e-01] -elapsed time: 0.0035719871520996094  s\n",
            "Result:  : not_ripe - prodb: [0.08617272 0.91382724] -elapsed time: 0.0036962032318115234  s\n",
            "Result:  : not_ripe - prodb: [0.03308969 0.9669103 ] -elapsed time: 0.0043489933013916016  s\n",
            "Result:  : not_ripe - prodb: [4.1731187e-06 9.9999583e-01] -elapsed time: 0.004121541976928711  s\n",
            "Result:  : not_ripe - prodb: [0.00349941 0.9965006 ] -elapsed time: 0.0038831233978271484  s\n",
            "Result:  : not_ripe - prodb: [0.07314985 0.92685014] -elapsed time: 0.003164052963256836  s\n",
            "Result:  : not_ripe - prodb: [0.01159362 0.9884064 ] -elapsed time: 0.003011941909790039  s\n"
          ],
          "name": "stdout"
        },
        {
          "output_type": "stream",
          "text": [
            "\r 41%|████      | 62/151 [00:15<00:26,  3.34it/s]"
          ],
          "name": "stderr"
        },
        {
          "output_type": "stream",
          "text": [
            "final_image.shape :  (720, 1280, 3)\n",
            "Result:  : not_ripe - prodb: [0.18973099 0.810269  ] -elapsed time: 0.005079746246337891  s\n",
            "Result:  : not_ripe - prodb: [1.9539431e-04 9.9980468e-01] -elapsed time: 0.004107236862182617  s\n",
            "Result:  : not_ripe - prodb: [9.4619770e-07 9.9999905e-01] -elapsed time: 0.0040740966796875  s\n",
            "Result:  : not_ripe - prodb: [0.1321 0.8679] -elapsed time: 0.004021406173706055  s\n",
            "Result:  : not_ripe - prodb: [7.5570584e-05 9.9992442e-01] -elapsed time: 0.0039348602294921875  s\n",
            "Result:  : not_ripe - prodb: [1.813402e-05 9.999819e-01] -elapsed time: 0.004059553146362305  s\n",
            "Result:  : not_ripe - prodb: [0.00497524 0.99502474] -elapsed time: 0.0040628910064697266  s\n",
            "Result:  : not_ripe - prodb: [0.22251037 0.77748966] -elapsed time: 0.0039234161376953125  s\n",
            "Result:  : not_ripe - prodb: [1.035434e-07 9.999999e-01] -elapsed time: 0.003858327865600586  s\n",
            "Result:  : not_ripe - prodb: [1.1423584e-04 9.9988580e-01] -elapsed time: 0.002641916275024414  s\n",
            "Result:  : not_ripe - prodb: [2.2831806e-05 9.9997711e-01] -elapsed time: 0.002889871597290039  s\n",
            "Result:  : ripe - prodb: [9.9979407e-01 2.0599013e-04] -elapsed time: 0.0027685165405273438  s\n",
            "Result:  : not_ripe - prodb: [1.0902455e-05 9.9998915e-01] -elapsed time: 0.0025675296783447266  s\n"
          ],
          "name": "stdout"
        },
        {
          "output_type": "stream",
          "text": [
            "\r 42%|████▏     | 63/151 [00:15<00:27,  3.24it/s]"
          ],
          "name": "stderr"
        },
        {
          "output_type": "stream",
          "text": [
            "final_image.shape :  (720, 1280, 3)\n",
            "Result:  : not_ripe - prodb: [0.08512154 0.9148784 ] -elapsed time: 0.0032508373260498047  s\n",
            "Result:  : not_ripe - prodb: [7.9383986e-04 9.9920613e-01] -elapsed time: 0.002790212631225586  s\n",
            "Result:  : not_ripe - prodb: [0.11413875 0.8858612 ] -elapsed time: 0.0026557445526123047  s\n",
            "Result:  : not_ripe - prodb: [0.00475522 0.9952448 ] -elapsed time: 0.0027990341186523438  s\n",
            "Result:  : not_ripe - prodb: [1.0310825e-07 9.9999988e-01] -elapsed time: 0.0024030208587646484  s\n",
            "Result:  : not_ripe - prodb: [0.00153122 0.9984687 ] -elapsed time: 0.0024328231811523438  s\n",
            "Result:  : not_ripe - prodb: [8.9803340e-05 9.9991024e-01] -elapsed time: 0.0023505687713623047  s\n",
            "Result:  : not_ripe - prodb: [2.103178e-05 9.999790e-01] -elapsed time: 0.0022804737091064453  s\n",
            "Result:  : not_ripe - prodb: [1.6810230e-06 9.9999833e-01] -elapsed time: 0.002321958541870117  s\n",
            "Result:  : not_ripe - prodb: [0.00825199 0.991748  ] -elapsed time: 0.002347707748413086  s\n",
            "Result:  : not_ripe - prodb: [0.02212668 0.9778733 ] -elapsed time: 0.003164052963256836  s\n",
            "Result:  : not_ripe - prodb: [8.8260414e-05 9.9991179e-01] -elapsed time: 0.002245664596557617  s\n",
            "Result:  : not_ripe - prodb: [4.0017380e-06 9.9999595e-01] -elapsed time: 0.002741575241088867  s\n"
          ],
          "name": "stdout"
        },
        {
          "output_type": "stream",
          "text": [
            "\r 42%|████▏     | 64/151 [00:15<00:27,  3.17it/s]"
          ],
          "name": "stderr"
        },
        {
          "output_type": "stream",
          "text": [
            "final_image.shape :  (720, 1280, 3)\n",
            "Result:  : not_ripe - prodb: [0.07436048 0.9256395 ] -elapsed time: 0.004681110382080078  s\n",
            "Result:  : not_ripe - prodb: [1.18092255e-04 9.99881864e-01] -elapsed time: 0.005056619644165039  s\n",
            "Result:  : not_ripe - prodb: [0.072032 0.927968] -elapsed time: 0.0037240982055664062  s\n",
            "Result:  : not_ripe - prodb: [5.4109034e-05 9.9994588e-01] -elapsed time: 0.003503084182739258  s\n",
            "Result:  : not_ripe - prodb: [0.02207024 0.9779298 ] -elapsed time: 0.002366304397583008  s\n",
            "Result:  : ripe - prodb: [0.7733771  0.22662288] -elapsed time: 0.0021598339080810547  s\n",
            "Result:  : not_ripe - prodb: [4.8378660e-04 9.9951625e-01] -elapsed time: 0.0022203922271728516  s\n",
            "Result:  : not_ripe - prodb: [4.1032226e-07 9.9999964e-01] -elapsed time: 0.0023224353790283203  s\n",
            "Result:  : not_ripe - prodb: [1.3840678e-06 9.9999857e-01] -elapsed time: 0.0024394989013671875  s\n"
          ],
          "name": "stdout"
        },
        {
          "output_type": "stream",
          "text": [
            "\r 43%|████▎     | 65/151 [00:16<00:26,  3.28it/s]"
          ],
          "name": "stderr"
        },
        {
          "output_type": "stream",
          "text": [
            "final_image.shape :  (720, 1280, 3)\n",
            "Result:  : not_ripe - prodb: [0.08935864 0.9106414 ] -elapsed time: 0.00402069091796875  s\n",
            "Result:  : not_ripe - prodb: [1.8570587e-04 9.9981433e-01] -elapsed time: 0.0034940242767333984  s\n",
            "Result:  : not_ripe - prodb: [1.07245294e-04 9.99892712e-01] -elapsed time: 0.0031414031982421875  s\n",
            "Result:  : ripe - prodb: [9.9934083e-01 6.5914454e-04] -elapsed time: 0.003186941146850586  s\n",
            "Result:  : not_ripe - prodb: [1.1600928e-06 9.9999881e-01] -elapsed time: 0.0031409263610839844  s\n",
            "Result:  : not_ripe - prodb: [3.7655835e-05 9.9996233e-01] -elapsed time: 0.0032482147216796875  s\n",
            "Result:  : not_ripe - prodb: [0.07651001 0.92349   ] -elapsed time: 0.0033774375915527344  s\n",
            "Result:  : not_ripe - prodb: [3.1626981e-04 9.9968374e-01] -elapsed time: 0.0034139156341552734  s\n",
            "Result:  : not_ripe - prodb: [5.781627e-05 9.999422e-01] -elapsed time: 0.004847526550292969  s\n",
            "Result:  : ripe - prodb: [0.6927027  0.30729732] -elapsed time: 0.003700733184814453  s\n"
          ],
          "name": "stdout"
        },
        {
          "output_type": "stream",
          "text": [
            "\r 44%|████▎     | 66/151 [00:16<00:24,  3.43it/s]"
          ],
          "name": "stderr"
        },
        {
          "output_type": "stream",
          "text": [
            "final_image.shape :  (720, 1280, 3)\n",
            "Result:  : not_ripe - prodb: [0.11608949 0.88391054] -elapsed time: 0.0032150745391845703  s\n"
          ],
          "name": "stdout"
        },
        {
          "output_type": "stream",
          "text": [
            "\r 44%|████▍     | 67/151 [00:16<00:23,  3.51it/s]"
          ],
          "name": "stderr"
        },
        {
          "output_type": "stream",
          "text": [
            "final_image.shape :  (720, 1280, 3)\n",
            "Result:  : not_ripe - prodb: [0.1379513 0.8620487] -elapsed time: 0.00795292854309082  s\n",
            "Result:  : not_ripe - prodb: [1.6279508e-05 9.9998367e-01] -elapsed time: 0.0030698776245117188  s\n",
            "Result:  : ripe - prodb: [0.60246754 0.39753246] -elapsed time: 0.002953052520751953  s\n"
          ],
          "name": "stdout"
        },
        {
          "output_type": "stream",
          "text": [
            "\r 45%|████▌     | 68/151 [00:16<00:22,  3.72it/s]"
          ],
          "name": "stderr"
        },
        {
          "output_type": "stream",
          "text": [
            "final_image.shape :  (720, 1280, 3)\n",
            "Result:  : not_ripe - prodb: [0.13104941 0.86895066] -elapsed time: 0.0034637451171875  s\n"
          ],
          "name": "stdout"
        },
        {
          "output_type": "stream",
          "text": [
            "\r 46%|████▌     | 69/151 [00:17<00:22,  3.64it/s]"
          ],
          "name": "stderr"
        },
        {
          "output_type": "stream",
          "text": [
            "final_image.shape :  (720, 1280, 3)\n",
            "Result:  : not_ripe - prodb: [0.21161897 0.7883811 ] -elapsed time: 0.004202842712402344  s\n"
          ],
          "name": "stdout"
        },
        {
          "output_type": "stream",
          "text": [
            "\r 46%|████▋     | 70/151 [00:17<00:22,  3.60it/s]"
          ],
          "name": "stderr"
        },
        {
          "output_type": "stream",
          "text": [
            "final_image.shape :  (720, 1280, 3)\n",
            "Result:  : not_ripe - prodb: [0.45602787 0.54397213] -elapsed time: 0.003845691680908203  s\n"
          ],
          "name": "stdout"
        },
        {
          "output_type": "stream",
          "text": [
            "\r 47%|████▋     | 71/151 [00:17<00:23,  3.38it/s]"
          ],
          "name": "stderr"
        },
        {
          "output_type": "stream",
          "text": [
            "final_image.shape :  (720, 1280, 3)\n",
            "Result:  : not_ripe - prodb: [0.45905563 0.54094434] -elapsed time: 0.004933357238769531  s\n",
            "Result:  : ripe - prodb: [9.999560e-01 4.399124e-05] -elapsed time: 0.00418400764465332  s\n",
            "Result:  : not_ripe - prodb: [4.1382449e-05 9.9995863e-01] -elapsed time: 0.004122018814086914  s\n",
            "Result:  : not_ripe - prodb: [1.8881181e-05 9.9998116e-01] -elapsed time: 0.003583669662475586  s\n"
          ],
          "name": "stdout"
        },
        {
          "output_type": "stream",
          "text": [
            "\r 48%|████▊     | 72/151 [00:17<00:22,  3.57it/s]"
          ],
          "name": "stderr"
        },
        {
          "output_type": "stream",
          "text": [
            "final_image.shape :  (720, 1280, 3)\n",
            "Result:  : not_ripe - prodb: [0.4951223 0.5048777] -elapsed time: 0.0032958984375  s\n",
            "Result:  : ripe - prodb: [9.9998629e-01 1.3689317e-05] -elapsed time: 0.002624034881591797  s\n",
            "Result:  : not_ripe - prodb: [1.7640268e-05 9.9998236e-01] -elapsed time: 0.0023627281188964844  s\n",
            "Result:  : not_ripe - prodb: [0.00732765 0.9926724 ] -elapsed time: 0.0031545162200927734  s\n"
          ],
          "name": "stdout"
        },
        {
          "output_type": "stream",
          "text": [
            "\r 48%|████▊     | 73/151 [00:18<00:21,  3.59it/s]"
          ],
          "name": "stderr"
        },
        {
          "output_type": "stream",
          "text": [
            "final_image.shape :  (720, 1280, 3)\n",
            "Result:  : ripe - prodb: [0.50566554 0.4943345 ] -elapsed time: 0.0038039684295654297  s\n",
            "Result:  : not_ripe - prodb: [1.8082332e-04 9.9981922e-01] -elapsed time: 0.003260374069213867  s\n",
            "Result:  : not_ripe - prodb: [1.378345e-05 9.999862e-01] -elapsed time: 0.0031616687774658203  s\n",
            "Result:  : ripe - prodb: [0.9917488  0.00825125] -elapsed time: 0.002994537353515625  s\n",
            "Result:  : ripe - prodb: [9.9935931e-01 6.4064446e-04] -elapsed time: 0.003108501434326172  s\n"
          ],
          "name": "stdout"
        },
        {
          "output_type": "stream",
          "text": [
            "\r 49%|████▉     | 74/151 [00:18<00:20,  3.69it/s]"
          ],
          "name": "stderr"
        },
        {
          "output_type": "stream",
          "text": [
            "final_image.shape :  (720, 1280, 3)\n",
            "Result:  : ripe - prodb: [0.5145333  0.48546675] -elapsed time: 0.004192829132080078  s\n",
            "Result:  : not_ripe - prodb: [3.479720e-05 9.999652e-01] -elapsed time: 0.0037240982055664062  s\n",
            "Result:  : not_ripe - prodb: [6.3050754e-04 9.9936956e-01] -elapsed time: 0.0035271644592285156  s\n"
          ],
          "name": "stdout"
        },
        {
          "output_type": "stream",
          "text": [
            "\r 50%|████▉     | 75/151 [00:18<00:20,  3.74it/s]"
          ],
          "name": "stderr"
        },
        {
          "output_type": "stream",
          "text": [
            "final_image.shape :  (720, 1280, 3)\n",
            "Result:  : ripe - prodb: [0.7407139  0.25928608] -elapsed time: 0.003945350646972656  s\n"
          ],
          "name": "stdout"
        },
        {
          "output_type": "stream",
          "text": [
            "\r 50%|█████     | 76/151 [00:18<00:18,  3.97it/s]"
          ],
          "name": "stderr"
        },
        {
          "output_type": "stream",
          "text": [
            "final_image.shape :  (720, 1280, 3)\n",
            "Result:  : ripe - prodb: [0.9706325  0.02936749] -elapsed time: 0.004079103469848633  s\n"
          ],
          "name": "stdout"
        },
        {
          "output_type": "stream",
          "text": [
            "\r 51%|█████     | 77/151 [00:19<00:19,  3.80it/s]"
          ],
          "name": "stderr"
        },
        {
          "output_type": "stream",
          "text": [
            "final_image.shape :  (720, 1280, 3)\n",
            "Result:  : ripe - prodb: [0.9845189 0.0154811] -elapsed time: 0.0042607784271240234  s\n"
          ],
          "name": "stdout"
        },
        {
          "output_type": "stream",
          "text": [
            "\r 52%|█████▏    | 78/151 [00:19<00:21,  3.36it/s]"
          ],
          "name": "stderr"
        },
        {
          "output_type": "stream",
          "text": [
            "final_image.shape :  (720, 1280, 3)\n",
            "Result:  : ripe - prodb: [0.9885932  0.01140676] -elapsed time: 0.004179716110229492  s\n",
            "Result:  : not_ripe - prodb: [0.16040695 0.839593  ] -elapsed time: 0.0039026737213134766  s\n",
            "Result:  : not_ripe - prodb: [3.5679422e-04 9.9964321e-01] -elapsed time: 0.01762223243713379  s\n"
          ],
          "name": "stdout"
        },
        {
          "output_type": "stream",
          "text": [
            "\r 52%|█████▏    | 79/151 [00:19<00:21,  3.40it/s]"
          ],
          "name": "stderr"
        },
        {
          "output_type": "stream",
          "text": [
            "final_image.shape :  (720, 1280, 3)\n",
            "Result:  : ripe - prodb: [0.9975661  0.00243394] -elapsed time: 0.003894805908203125  s\n"
          ],
          "name": "stdout"
        },
        {
          "output_type": "stream",
          "text": [
            "\r 53%|█████▎    | 80/151 [00:20<00:19,  3.65it/s]"
          ],
          "name": "stderr"
        },
        {
          "output_type": "stream",
          "text": [
            "final_image.shape :  (720, 1280, 3)\n",
            "Result:  : ripe - prodb: [0.99829525 0.00170476] -elapsed time: 0.004270076751708984  s\n",
            "Result:  : not_ripe - prodb: [1.0189612e-07 9.9999988e-01] -elapsed time: 0.0031349658966064453  s\n"
          ],
          "name": "stdout"
        },
        {
          "output_type": "stream",
          "text": [
            "\r 54%|█████▎    | 81/151 [00:20<00:17,  3.90it/s]"
          ],
          "name": "stderr"
        },
        {
          "output_type": "stream",
          "text": [
            "final_image.shape :  (720, 1280, 3)\n",
            "Result:  : ripe - prodb: [9.9908447e-01 9.1557193e-04] -elapsed time: 0.0038700103759765625  s\n"
          ],
          "name": "stdout"
        },
        {
          "output_type": "stream",
          "text": [
            "\r 54%|█████▍    | 82/151 [00:20<00:17,  3.90it/s]"
          ],
          "name": "stderr"
        },
        {
          "output_type": "stream",
          "text": [
            "final_image.shape :  (720, 1280, 3)\n",
            "Result:  : ripe - prodb: [9.9927932e-01 7.2066014e-04] -elapsed time: 0.004238605499267578  s\n",
            "Result:  : not_ripe - prodb: [3.6452420e-04 9.9963546e-01] -elapsed time: 0.0033881664276123047  s\n",
            "Result:  : not_ripe - prodb: [0.00617161 0.99382836] -elapsed time: 0.003167390823364258  s\n",
            "Result:  : not_ripe - prodb: [1.0735979e-09 1.0000000e+00] -elapsed time: 0.0030007362365722656  s\n"
          ],
          "name": "stdout"
        },
        {
          "output_type": "stream",
          "text": [
            "\r 55%|█████▍    | 83/151 [00:20<00:17,  3.80it/s]"
          ],
          "name": "stderr"
        },
        {
          "output_type": "stream",
          "text": [
            "final_image.shape :  (720, 1280, 3)\n",
            "Result:  : ripe - prodb: [9.9967206e-01 3.2795084e-04] -elapsed time: 0.0040569305419921875  s\n"
          ],
          "name": "stdout"
        },
        {
          "output_type": "stream",
          "text": [
            "\r 56%|█████▌    | 84/151 [00:21<00:19,  3.53it/s]"
          ],
          "name": "stderr"
        },
        {
          "output_type": "stream",
          "text": [
            "final_image.shape :  (720, 1280, 3)\n",
            "Result:  : ripe - prodb: [9.9956340e-01 4.3664794e-04] -elapsed time: 0.00452113151550293  s\n"
          ],
          "name": "stdout"
        },
        {
          "output_type": "stream",
          "text": [
            "\r 56%|█████▋    | 85/151 [00:21<00:18,  3.53it/s]"
          ],
          "name": "stderr"
        },
        {
          "output_type": "stream",
          "text": [
            "final_image.shape :  (720, 1280, 3)\n"
          ],
          "name": "stdout"
        },
        {
          "output_type": "stream",
          "text": [
            "\r 57%|█████▋    | 86/151 [00:21<00:17,  3.72it/s]"
          ],
          "name": "stderr"
        },
        {
          "output_type": "stream",
          "text": [
            "final_image.shape :  (720, 1280, 3)\n",
            "Result:  : ripe - prodb: [9.9978846e-01 2.1159142e-04] -elapsed time: 0.0042269229888916016  s\n"
          ],
          "name": "stdout"
        },
        {
          "output_type": "stream",
          "text": [
            "\r 58%|█████▊    | 87/151 [00:22<00:17,  3.70it/s]"
          ],
          "name": "stderr"
        },
        {
          "output_type": "stream",
          "text": [
            "final_image.shape :  (720, 1280, 3)\n",
            "Result:  : ripe - prodb: [9.9978775e-01 2.1224971e-04] -elapsed time: 0.0040607452392578125  s\n"
          ],
          "name": "stdout"
        },
        {
          "output_type": "stream",
          "text": [
            "\r 58%|█████▊    | 88/151 [00:22<00:17,  3.69it/s]"
          ],
          "name": "stderr"
        },
        {
          "output_type": "stream",
          "text": [
            "final_image.shape :  (720, 1280, 3)\n",
            "Result:  : ripe - prodb: [9.9971777e-01 2.8218198e-04] -elapsed time: 0.004121303558349609  s\n"
          ],
          "name": "stdout"
        },
        {
          "output_type": "stream",
          "text": [
            "\r 59%|█████▉    | 89/151 [00:22<00:16,  3.69it/s]"
          ],
          "name": "stderr"
        },
        {
          "output_type": "stream",
          "text": [
            "final_image.shape :  (720, 1280, 3)\n",
            "Result:  : ripe - prodb: [9.9980134e-01 1.9869451e-04] -elapsed time: 0.0037860870361328125  s\n"
          ],
          "name": "stdout"
        },
        {
          "output_type": "stream",
          "text": [
            "\r 60%|█████▉    | 90/151 [00:22<00:16,  3.80it/s]"
          ],
          "name": "stderr"
        },
        {
          "output_type": "stream",
          "text": [
            "final_image.shape :  (720, 1280, 3)\n",
            "Result:  : ripe - prodb: [9.997863e-01 2.137312e-04] -elapsed time: 0.004603385925292969  s\n"
          ],
          "name": "stdout"
        },
        {
          "output_type": "stream",
          "text": [
            "\r 60%|██████    | 91/151 [00:23<00:16,  3.66it/s]"
          ],
          "name": "stderr"
        },
        {
          "output_type": "stream",
          "text": [
            "final_image.shape :  (720, 1280, 3)\n",
            "Result:  : ripe - prodb: [9.9981934e-01 1.8069612e-04] -elapsed time: 0.0039033889770507812  s\n"
          ],
          "name": "stdout"
        },
        {
          "output_type": "stream",
          "text": [
            "\r 61%|██████    | 92/151 [00:23<00:16,  3.50it/s]"
          ],
          "name": "stderr"
        },
        {
          "output_type": "stream",
          "text": [
            "final_image.shape :  (720, 1280, 3)\n",
            "Result:  : ripe - prodb: [9.998925e-01 1.074821e-04] -elapsed time: 0.0040130615234375  s\n"
          ],
          "name": "stdout"
        },
        {
          "output_type": "stream",
          "text": [
            "\r 62%|██████▏   | 93/151 [00:23<00:16,  3.62it/s]"
          ],
          "name": "stderr"
        },
        {
          "output_type": "stream",
          "text": [
            "final_image.shape :  (720, 1280, 3)\n",
            "Result:  : ripe - prodb: [9.9983585e-01 1.6413379e-04] -elapsed time: 0.00402069091796875  s\n"
          ],
          "name": "stdout"
        },
        {
          "output_type": "stream",
          "text": [
            "\r 62%|██████▏   | 94/151 [00:23<00:15,  3.78it/s]"
          ],
          "name": "stderr"
        },
        {
          "output_type": "stream",
          "text": [
            "final_image.shape :  (720, 1280, 3)\n",
            "Result:  : ripe - prodb: [9.9980098e-01 1.9900393e-04] -elapsed time: 0.004363059997558594  s\n"
          ],
          "name": "stdout"
        },
        {
          "output_type": "stream",
          "text": [
            "\r 63%|██████▎   | 95/151 [00:24<00:14,  3.97it/s]"
          ],
          "name": "stderr"
        },
        {
          "output_type": "stream",
          "text": [
            "final_image.shape :  (720, 1280, 3)\n",
            "Result:  : ripe - prodb: [9.9974245e-01 2.5753502e-04] -elapsed time: 0.0043032169342041016  s\n"
          ],
          "name": "stdout"
        },
        {
          "output_type": "stream",
          "text": [
            "\r 64%|██████▎   | 96/151 [00:24<00:13,  4.08it/s]"
          ],
          "name": "stderr"
        },
        {
          "output_type": "stream",
          "text": [
            "final_image.shape :  (720, 1280, 3)\n",
            "Result:  : ripe - prodb: [9.9976522e-01 2.3474247e-04] -elapsed time: 0.004145145416259766  s\n"
          ],
          "name": "stdout"
        },
        {
          "output_type": "stream",
          "text": [
            "\r 64%|██████▍   | 97/151 [00:24<00:14,  3.77it/s]"
          ],
          "name": "stderr"
        },
        {
          "output_type": "stream",
          "text": [
            "final_image.shape :  (720, 1280, 3)\n",
            "Result:  : ripe - prodb: [9.9988854e-01 1.1149733e-04] -elapsed time: 0.004327058792114258  s\n"
          ],
          "name": "stdout"
        },
        {
          "output_type": "stream",
          "text": [
            "\r 65%|██████▍   | 98/151 [00:24<00:14,  3.72it/s]"
          ],
          "name": "stderr"
        },
        {
          "output_type": "stream",
          "text": [
            "final_image.shape :  (720, 1280, 3)\n",
            "Result:  : ripe - prodb: [9.9982125e-01 1.7873732e-04] -elapsed time: 0.004481315612792969  s\n"
          ],
          "name": "stdout"
        },
        {
          "output_type": "stream",
          "text": [
            "\r 66%|██████▌   | 99/151 [00:25<00:14,  3.69it/s]"
          ],
          "name": "stderr"
        },
        {
          "output_type": "stream",
          "text": [
            "final_image.shape :  (720, 1280, 3)\n",
            "Result:  : ripe - prodb: [9.9985790e-01 1.4212064e-04] -elapsed time: 0.004321098327636719  s\n",
            "Result:  : not_ripe - prodb: [1.5804543e-04 9.9984193e-01] -elapsed time: 0.004486799240112305  s\n"
          ],
          "name": "stdout"
        },
        {
          "output_type": "stream",
          "text": [
            "\r 66%|██████▌   | 100/151 [00:25<00:13,  3.66it/s]"
          ],
          "name": "stderr"
        },
        {
          "output_type": "stream",
          "text": [
            "final_image.shape :  (720, 1280, 3)\n",
            "Result:  : ripe - prodb: [9.9976343e-01 2.3653939e-04] -elapsed time: 0.004002571105957031  s\n"
          ],
          "name": "stdout"
        },
        {
          "output_type": "stream",
          "text": [
            "\r 67%|██████▋   | 101/151 [00:25<00:13,  3.72it/s]"
          ],
          "name": "stderr"
        },
        {
          "output_type": "stream",
          "text": [
            "final_image.shape :  (720, 1280, 3)\n",
            "Result:  : ripe - prodb: [9.9991024e-01 8.9772599e-05] -elapsed time: 0.0035507678985595703  s\n"
          ],
          "name": "stdout"
        },
        {
          "output_type": "stream",
          "text": [
            "\r 68%|██████▊   | 102/151 [00:26<00:14,  3.46it/s]"
          ],
          "name": "stderr"
        },
        {
          "output_type": "stream",
          "text": [
            "final_image.shape :  (720, 1280, 3)\n",
            "Result:  : ripe - prodb: [9.99887347e-01 1.12692345e-04] -elapsed time: 0.003451824188232422  s\n"
          ],
          "name": "stdout"
        },
        {
          "output_type": "stream",
          "text": [
            "\r 68%|██████▊   | 103/151 [00:26<00:13,  3.46it/s]"
          ],
          "name": "stderr"
        },
        {
          "output_type": "stream",
          "text": [
            "final_image.shape :  (720, 1280, 3)\n",
            "Result:  : ripe - prodb: [9.9983943e-01 1.6048994e-04] -elapsed time: 0.003426790237426758  s\n"
          ],
          "name": "stdout"
        },
        {
          "output_type": "stream",
          "text": [
            "\r 69%|██████▉   | 104/151 [00:26<00:13,  3.60it/s]"
          ],
          "name": "stderr"
        },
        {
          "output_type": "stream",
          "text": [
            "final_image.shape :  (720, 1280, 3)\n",
            "Result:  : ripe - prodb: [9.9981469e-01 1.8530613e-04] -elapsed time: 0.0033757686614990234  s\n"
          ],
          "name": "stdout"
        },
        {
          "output_type": "stream",
          "text": [
            "\r 70%|██████▉   | 105/151 [00:26<00:12,  3.74it/s]"
          ],
          "name": "stderr"
        },
        {
          "output_type": "stream",
          "text": [
            "final_image.shape :  (720, 1280, 3)\n",
            "Result:  : ripe - prodb: [9.9986255e-01 1.3744374e-04] -elapsed time: 0.004259586334228516  s\n"
          ],
          "name": "stdout"
        },
        {
          "output_type": "stream",
          "text": [
            "\r 70%|███████   | 106/151 [00:27<00:12,  3.72it/s]"
          ],
          "name": "stderr"
        },
        {
          "output_type": "stream",
          "text": [
            "final_image.shape :  (720, 1280, 3)\n",
            "Result:  : ripe - prodb: [9.9990046e-01 9.9505080e-05] -elapsed time: 0.005985736846923828  s\n"
          ],
          "name": "stdout"
        },
        {
          "output_type": "stream",
          "text": [
            "\r 71%|███████   | 107/151 [00:27<00:12,  3.57it/s]"
          ],
          "name": "stderr"
        },
        {
          "output_type": "stream",
          "text": [
            "final_image.shape :  (720, 1280, 3)\n"
          ],
          "name": "stdout"
        },
        {
          "output_type": "stream",
          "text": [
            "\r 72%|███████▏  | 108/151 [00:27<00:12,  3.49it/s]"
          ],
          "name": "stderr"
        },
        {
          "output_type": "stream",
          "text": [
            "final_image.shape :  (720, 1280, 3)\n",
            "Result:  : ripe - prodb: [9.9975795e-01 2.4204215e-04] -elapsed time: 0.004244089126586914  s\n"
          ],
          "name": "stdout"
        },
        {
          "output_type": "stream",
          "text": [
            "\r 72%|███████▏  | 109/151 [00:28<00:11,  3.51it/s]"
          ],
          "name": "stderr"
        },
        {
          "output_type": "stream",
          "text": [
            "final_image.shape :  (720, 1280, 3)\n",
            "Result:  : ripe - prodb: [9.9930727e-01 6.9276814e-04] -elapsed time: 0.0040132999420166016  s\n"
          ],
          "name": "stdout"
        },
        {
          "output_type": "stream",
          "text": [
            "\r 73%|███████▎  | 110/151 [00:28<00:10,  3.75it/s]"
          ],
          "name": "stderr"
        },
        {
          "output_type": "stream",
          "text": [
            "final_image.shape :  (720, 1280, 3)\n",
            "Result:  : ripe - prodb: [9.9961323e-01 3.8677052e-04] -elapsed time: 0.004283905029296875  s\n",
            "Result:  : not_ripe - prodb: [7.609043e-07 9.999993e-01] -elapsed time: 0.0037178993225097656  s\n"
          ],
          "name": "stdout"
        },
        {
          "output_type": "stream",
          "text": [
            "\r 74%|███████▎  | 111/151 [00:28<00:10,  3.69it/s]"
          ],
          "name": "stderr"
        },
        {
          "output_type": "stream",
          "text": [
            "final_image.shape :  (720, 1280, 3)\n",
            "Result:  : ripe - prodb: [9.9955183e-01 4.4817672e-04] -elapsed time: 0.003752470016479492  s\n"
          ],
          "name": "stdout"
        },
        {
          "output_type": "stream",
          "text": [
            "\r 74%|███████▍  | 112/151 [00:28<00:10,  3.55it/s]"
          ],
          "name": "stderr"
        },
        {
          "output_type": "stream",
          "text": [
            "final_image.shape :  (720, 1280, 3)\n",
            "Result:  : ripe - prodb: [9.997446e-01 2.554598e-04] -elapsed time: 0.004055500030517578  s\n"
          ],
          "name": "stdout"
        },
        {
          "output_type": "stream",
          "text": [
            "\r 75%|███████▍  | 113/151 [00:29<00:10,  3.61it/s]"
          ],
          "name": "stderr"
        },
        {
          "output_type": "stream",
          "text": [
            "final_image.shape :  (720, 1280, 3)\n",
            "Result:  : ripe - prodb: [9.9971014e-01 2.8983460e-04] -elapsed time: 0.004193305969238281  s\n"
          ],
          "name": "stdout"
        },
        {
          "output_type": "stream",
          "text": [
            "\r 75%|███████▌  | 114/151 [00:29<00:10,  3.68it/s]"
          ],
          "name": "stderr"
        },
        {
          "output_type": "stream",
          "text": [
            "final_image.shape :  (720, 1280, 3)\n",
            "Result:  : ripe - prodb: [9.9966490e-01 3.3514848e-04] -elapsed time: 0.00417637825012207  s\n"
          ],
          "name": "stdout"
        },
        {
          "output_type": "stream",
          "text": [
            "\r 76%|███████▌  | 115/151 [00:29<00:10,  3.56it/s]"
          ],
          "name": "stderr"
        },
        {
          "output_type": "stream",
          "text": [
            "final_image.shape :  (720, 1280, 3)\n",
            "Result:  : ripe - prodb: [9.9961013e-01 3.8984817e-04] -elapsed time: 0.004081249237060547  s\n"
          ],
          "name": "stdout"
        },
        {
          "output_type": "stream",
          "text": [
            "\r 77%|███████▋  | 116/151 [00:29<00:09,  3.78it/s]"
          ],
          "name": "stderr"
        },
        {
          "output_type": "stream",
          "text": [
            "final_image.shape :  (720, 1280, 3)\n",
            "Result:  : ripe - prodb: [9.9935228e-01 6.4776366e-04] -elapsed time: 0.004328727722167969  s\n"
          ],
          "name": "stdout"
        },
        {
          "output_type": "stream",
          "text": [
            "\r 77%|███████▋  | 117/151 [00:30<00:08,  4.00it/s]"
          ],
          "name": "stderr"
        },
        {
          "output_type": "stream",
          "text": [
            "final_image.shape :  (720, 1280, 3)\n",
            "Result:  : ripe - prodb: [9.9976891e-01 2.3115004e-04] -elapsed time: 0.0042705535888671875  s\n"
          ],
          "name": "stdout"
        },
        {
          "output_type": "stream",
          "text": [
            "\r 78%|███████▊  | 118/151 [00:30<00:08,  3.80it/s]"
          ],
          "name": "stderr"
        },
        {
          "output_type": "stream",
          "text": [
            "final_image.shape :  (720, 1280, 3)\n",
            "Result:  : ripe - prodb: [9.994456e-01 5.544245e-04] -elapsed time: 0.006462574005126953  s\n"
          ],
          "name": "stdout"
        },
        {
          "output_type": "stream",
          "text": [
            "\r 79%|███████▉  | 119/151 [00:30<00:08,  3.76it/s]"
          ],
          "name": "stderr"
        },
        {
          "output_type": "stream",
          "text": [
            "final_image.shape :  (720, 1280, 3)\n",
            "Result:  : ripe - prodb: [9.9903250e-01 9.6749375e-04] -elapsed time: 0.004246950149536133  s\n"
          ],
          "name": "stdout"
        },
        {
          "output_type": "stream",
          "text": [
            "\r 79%|███████▉  | 120/151 [00:30<00:08,  3.62it/s]"
          ],
          "name": "stderr"
        },
        {
          "output_type": "stream",
          "text": [
            "final_image.shape :  (720, 1280, 3)\n",
            "Result:  : ripe - prodb: [9.9954909e-01 4.5088213e-04] -elapsed time: 0.003948688507080078  s\n"
          ],
          "name": "stdout"
        },
        {
          "output_type": "stream",
          "text": [
            "\r 80%|████████  | 121/151 [00:31<00:08,  3.37it/s]"
          ],
          "name": "stderr"
        },
        {
          "output_type": "stream",
          "text": [
            "final_image.shape :  (720, 1280, 3)\n",
            "Result:  : ripe - prodb: [9.991449e-01 8.550732e-04] -elapsed time: 0.004156827926635742  s\n"
          ],
          "name": "stdout"
        },
        {
          "output_type": "stream",
          "text": [
            "\r 81%|████████  | 122/151 [00:31<00:08,  3.32it/s]"
          ],
          "name": "stderr"
        },
        {
          "output_type": "stream",
          "text": [
            "final_image.shape :  (720, 1280, 3)\n",
            "Result:  : ripe - prodb: [9.9965262e-01 3.4734514e-04] -elapsed time: 0.0038862228393554688  s\n"
          ],
          "name": "stdout"
        },
        {
          "output_type": "stream",
          "text": [
            "\r 81%|████████▏ | 123/151 [00:31<00:08,  3.37it/s]"
          ],
          "name": "stderr"
        },
        {
          "output_type": "stream",
          "text": [
            "final_image.shape :  (720, 1280, 3)\n",
            "Result:  : ripe - prodb: [9.996625e-01 3.374617e-04] -elapsed time: 0.0040264129638671875  s\n"
          ],
          "name": "stdout"
        },
        {
          "output_type": "stream",
          "text": [
            "\r 82%|████████▏ | 124/151 [00:32<00:07,  3.45it/s]"
          ],
          "name": "stderr"
        },
        {
          "output_type": "stream",
          "text": [
            "final_image.shape :  (720, 1280, 3)\n",
            "Result:  : ripe - prodb: [9.9963748e-01 3.6250157e-04] -elapsed time: 0.0041615962982177734  s\n"
          ],
          "name": "stdout"
        },
        {
          "output_type": "stream",
          "text": [
            "\r 83%|████████▎ | 125/151 [00:32<00:07,  3.60it/s]"
          ],
          "name": "stderr"
        },
        {
          "output_type": "stream",
          "text": [
            "final_image.shape :  (720, 1280, 3)\n",
            "Result:  : ripe - prodb: [9.9958056e-01 4.1940072e-04] -elapsed time: 0.003740072250366211  s\n"
          ],
          "name": "stdout"
        },
        {
          "output_type": "stream",
          "text": [
            "\r 83%|████████▎ | 126/151 [00:32<00:07,  3.49it/s]"
          ],
          "name": "stderr"
        },
        {
          "output_type": "stream",
          "text": [
            "final_image.shape :  (720, 1280, 3)\n",
            "Result:  : ripe - prodb: [9.9959105e-01 4.0900783e-04] -elapsed time: 0.005808353424072266  s\n",
            "Result:  : ripe - prodb: [9.9964035e-01 3.5958865e-04] -elapsed time: 0.0035953521728515625  s\n"
          ],
          "name": "stdout"
        },
        {
          "output_type": "stream",
          "text": [
            "\r 84%|████████▍ | 127/151 [00:33<00:06,  3.57it/s]"
          ],
          "name": "stderr"
        },
        {
          "output_type": "stream",
          "text": [
            "final_image.shape :  (720, 1280, 3)\n",
            "Result:  : ripe - prodb: [9.9961805e-01 3.8188009e-04] -elapsed time: 0.003846883773803711  s\n"
          ],
          "name": "stdout"
        },
        {
          "output_type": "stream",
          "text": [
            "\r 85%|████████▍ | 128/151 [00:33<00:06,  3.82it/s]"
          ],
          "name": "stderr"
        },
        {
          "output_type": "stream",
          "text": [
            "final_image.shape :  (720, 1280, 3)\n",
            "Result:  : ripe - prodb: [9.994141e-01 5.858866e-04] -elapsed time: 0.004118919372558594  s\n",
            "Result:  : ripe - prodb: [9.9972862e-01 2.7131388e-04] -elapsed time: 0.003155231475830078  s\n"
          ],
          "name": "stdout"
        },
        {
          "output_type": "stream",
          "text": [
            "\r 85%|████████▌ | 129/151 [00:33<00:06,  3.64it/s]"
          ],
          "name": "stderr"
        },
        {
          "output_type": "stream",
          "text": [
            "final_image.shape :  (720, 1280, 3)\n",
            "Result:  : ripe - prodb: [9.9979621e-01 2.0375989e-04] -elapsed time: 0.004002094268798828  s\n",
            "Result:  : ripe - prodb: [9.996543e-01 3.456639e-04] -elapsed time: 0.003152132034301758  s\n",
            "Result:  : ripe - prodb: [9.99886036e-01 1.13944705e-04] -elapsed time: 0.002885103225708008  s\n"
          ],
          "name": "stdout"
        },
        {
          "output_type": "stream",
          "text": [
            "\r 86%|████████▌ | 130/151 [00:33<00:05,  3.75it/s]"
          ],
          "name": "stderr"
        },
        {
          "output_type": "stream",
          "text": [
            "final_image.shape :  (720, 1280, 3)\n",
            "Result:  : ripe - prodb: [9.9973482e-01 2.6515467e-04] -elapsed time: 0.006561279296875  s\n",
            "Result:  : ripe - prodb: [9.9978882e-01 2.1123946e-04] -elapsed time: 0.004214286804199219  s\n"
          ],
          "name": "stdout"
        },
        {
          "output_type": "stream",
          "text": [
            "\r 87%|████████▋ | 131/151 [00:34<00:05,  3.63it/s]"
          ],
          "name": "stderr"
        },
        {
          "output_type": "stream",
          "text": [
            "final_image.shape :  (720, 1280, 3)\n",
            "Result:  : ripe - prodb: [9.9965417e-01 3.4585642e-04] -elapsed time: 0.004101991653442383  s\n",
            "Result:  : ripe - prodb: [9.9981731e-01 1.8273405e-04] -elapsed time: 0.0032265186309814453  s\n"
          ],
          "name": "stdout"
        },
        {
          "output_type": "stream",
          "text": [
            "\r 87%|████████▋ | 132/151 [00:34<00:05,  3.43it/s]"
          ],
          "name": "stderr"
        },
        {
          "output_type": "stream",
          "text": [
            "final_image.shape :  (720, 1280, 3)\n",
            "Result:  : ripe - prodb: [9.9985147e-01 1.4849854e-04] -elapsed time: 0.004071235656738281  s\n",
            "Result:  : ripe - prodb: [9.9957579e-01 4.2422896e-04] -elapsed time: 0.0033371448516845703  s\n",
            "Result:  : ripe - prodb: [9.99893069e-01 1.06896834e-04] -elapsed time: 0.003025054931640625  s\n"
          ],
          "name": "stdout"
        },
        {
          "output_type": "stream",
          "text": [
            "\r 88%|████████▊ | 133/151 [00:34<00:05,  3.33it/s]"
          ],
          "name": "stderr"
        },
        {
          "output_type": "stream",
          "text": [
            "final_image.shape :  (720, 1280, 3)\n",
            "Result:  : ripe - prodb: [9.9979359e-01 2.0636873e-04] -elapsed time: 0.0034134387969970703  s\n",
            "Result:  : ripe - prodb: [9.9970144e-01 2.9856956e-04] -elapsed time: 0.003251791000366211  s\n",
            "Result:  : ripe - prodb: [9.99882817e-01 1.17175834e-04] -elapsed time: 0.0023376941680908203  s\n"
          ],
          "name": "stdout"
        },
        {
          "output_type": "stream",
          "text": [
            "\r 89%|████████▊ | 134/151 [00:35<00:04,  3.41it/s]"
          ],
          "name": "stderr"
        },
        {
          "output_type": "stream",
          "text": [
            "final_image.shape :  (720, 1280, 3)\n",
            "Result:  : ripe - prodb: [9.9969125e-01 3.0876489e-04] -elapsed time: 0.0038335323333740234  s\n",
            "Result:  : ripe - prodb: [9.9986124e-01 1.3875648e-04] -elapsed time: 0.003206968307495117  s\n"
          ],
          "name": "stdout"
        },
        {
          "output_type": "stream",
          "text": [
            "\r 89%|████████▉ | 135/151 [00:35<00:04,  3.43it/s]"
          ],
          "name": "stderr"
        },
        {
          "output_type": "stream",
          "text": [
            "final_image.shape :  (720, 1280, 3)\n",
            "Result:  : ripe - prodb: [9.998591e-01 1.408616e-04] -elapsed time: 0.0039157867431640625  s\n",
            "Result:  : ripe - prodb: [9.9956721e-01 4.3277378e-04] -elapsed time: 0.003980159759521484  s\n"
          ],
          "name": "stdout"
        },
        {
          "output_type": "stream",
          "text": [
            "\r 90%|█████████ | 136/151 [00:35<00:04,  3.41it/s]"
          ],
          "name": "stderr"
        },
        {
          "output_type": "stream",
          "text": [
            "final_image.shape :  (720, 1280, 3)\n",
            "Result:  : ripe - prodb: [9.9985790e-01 1.4205615e-04] -elapsed time: 0.0038499832153320312  s\n",
            "Result:  : ripe - prodb: [9.9957424e-01 4.2581212e-04] -elapsed time: 0.0033659934997558594  s\n"
          ],
          "name": "stdout"
        },
        {
          "output_type": "stream",
          "text": [
            "\r 91%|█████████ | 137/151 [00:35<00:03,  3.64it/s]"
          ],
          "name": "stderr"
        },
        {
          "output_type": "stream",
          "text": [
            "final_image.shape :  (720, 1280, 3)\n",
            "Result:  : ripe - prodb: [9.9984944e-01 1.5053898e-04] -elapsed time: 0.004193544387817383  s\n",
            "Result:  : ripe - prodb: [9.9960893e-01 3.9109553e-04] -elapsed time: 0.003490924835205078  s\n"
          ],
          "name": "stdout"
        },
        {
          "output_type": "stream",
          "text": [
            "\r 91%|█████████▏| 138/151 [00:36<00:03,  3.81it/s]"
          ],
          "name": "stderr"
        },
        {
          "output_type": "stream",
          "text": [
            "final_image.shape :  (720, 1280, 3)\n",
            "Result:  : ripe - prodb: [9.9960476e-01 3.9529477e-04] -elapsed time: 0.00472712516784668  s\n",
            "Result:  : ripe - prodb: [9.9985707e-01 1.4290090e-04] -elapsed time: 0.0035011768341064453  s\n"
          ],
          "name": "stdout"
        },
        {
          "output_type": "stream",
          "text": [
            "\r 92%|█████████▏| 139/151 [00:36<00:03,  3.59it/s]"
          ],
          "name": "stderr"
        },
        {
          "output_type": "stream",
          "text": [
            "final_image.shape :  (720, 1280, 3)\n",
            "Result:  : ripe - prodb: [9.9957258e-01 4.2746108e-04] -elapsed time: 0.0035827159881591797  s\n",
            "Result:  : ripe - prodb: [9.9982750e-01 1.7249161e-04] -elapsed time: 0.0038323402404785156  s\n"
          ],
          "name": "stdout"
        },
        {
          "output_type": "stream",
          "text": [
            "\r 93%|█████████▎| 140/151 [00:36<00:03,  3.39it/s]"
          ],
          "name": "stderr"
        },
        {
          "output_type": "stream",
          "text": [
            "final_image.shape :  (720, 1280, 3)\n",
            "Result:  : ripe - prodb: [9.9953568e-01 4.6435557e-04] -elapsed time: 0.0040819644927978516  s\n",
            "Result:  : ripe - prodb: [9.9985075e-01 1.4926530e-04] -elapsed time: 0.00341796875  s\n"
          ],
          "name": "stdout"
        },
        {
          "output_type": "stream",
          "text": [
            "\r 93%|█████████▎| 141/151 [00:37<00:02,  3.43it/s]"
          ],
          "name": "stderr"
        },
        {
          "output_type": "stream",
          "text": [
            "final_image.shape :  (720, 1280, 3)\n",
            "Result:  : ripe - prodb: [9.9951494e-01 4.8503859e-04] -elapsed time: 0.0031599998474121094  s\n",
            "Result:  : ripe - prodb: [9.9983490e-01 1.6510685e-04] -elapsed time: 0.0025992393493652344  s\n"
          ],
          "name": "stdout"
        },
        {
          "output_type": "stream",
          "text": [
            "\r 94%|█████████▍| 142/151 [00:37<00:02,  3.51it/s]"
          ],
          "name": "stderr"
        },
        {
          "output_type": "stream",
          "text": [
            "final_image.shape :  (720, 1280, 3)\n",
            "Result:  : ripe - prodb: [9.9957818e-01 4.2179436e-04] -elapsed time: 0.0032668113708496094  s\n"
          ],
          "name": "stdout"
        },
        {
          "output_type": "stream",
          "text": [
            "\r 95%|█████████▍| 143/151 [00:37<00:02,  3.55it/s]"
          ],
          "name": "stderr"
        },
        {
          "output_type": "stream",
          "text": [
            "final_image.shape :  (720, 1280, 3)\n",
            "Result:  : ripe - prodb: [9.9961144e-01 3.8857586e-04] -elapsed time: 0.0031881332397460938  s\n"
          ],
          "name": "stdout"
        },
        {
          "output_type": "stream",
          "text": [
            "\r 95%|█████████▌| 144/151 [00:37<00:01,  3.70it/s]"
          ],
          "name": "stderr"
        },
        {
          "output_type": "stream",
          "text": [
            "final_image.shape :  (720, 1280, 3)\n",
            "Result:  : ripe - prodb: [9.997235e-01 2.765154e-04] -elapsed time: 0.0034856796264648438  s\n",
            "Result:  : ripe - prodb: [9.9980730e-01 1.9275886e-04] -elapsed time: 0.0028374195098876953  s\n"
          ],
          "name": "stdout"
        },
        {
          "output_type": "stream",
          "text": [
            "\r 96%|█████████▌| 145/151 [00:38<00:01,  3.80it/s]"
          ],
          "name": "stderr"
        },
        {
          "output_type": "stream",
          "text": [
            "final_image.shape :  (720, 1280, 3)\n",
            "Result:  : ripe - prodb: [9.9963689e-01 3.6311016e-04] -elapsed time: 0.0050737857818603516  s\n",
            "Result:  : ripe - prodb: [9.998024e-01 1.975695e-04] -elapsed time: 0.0033478736877441406  s\n"
          ],
          "name": "stdout"
        },
        {
          "output_type": "stream",
          "text": [
            "\r 97%|█████████▋| 146/151 [00:38<00:01,  3.70it/s]"
          ],
          "name": "stderr"
        },
        {
          "output_type": "stream",
          "text": [
            "final_image.shape :  (720, 1280, 3)\n",
            "Result:  : ripe - prodb: [9.9964786e-01 3.5213266e-04] -elapsed time: 0.004341602325439453  s\n",
            "Result:  : ripe - prodb: [9.997843e-01 2.156893e-04] -elapsed time: 0.003583669662475586  s\n"
          ],
          "name": "stdout"
        },
        {
          "output_type": "stream",
          "text": [
            "\r 97%|█████████▋| 147/151 [00:38<00:01,  3.62it/s]"
          ],
          "name": "stderr"
        },
        {
          "output_type": "stream",
          "text": [
            "final_image.shape :  (720, 1280, 3)\n",
            "Result:  : ripe - prodb: [9.9960965e-01 3.9043245e-04] -elapsed time: 0.0038411617279052734  s\n",
            "Result:  : ripe - prodb: [9.9976021e-01 2.3977783e-04] -elapsed time: 0.003175973892211914  s\n",
            "Result:  : ripe - prodb: [9.9975830e-01 2.4173081e-04] -elapsed time: 0.0028548240661621094  s\n"
          ],
          "name": "stdout"
        },
        {
          "output_type": "stream",
          "text": [
            "\r 98%|█████████▊| 148/151 [00:38<00:00,  3.62it/s]"
          ],
          "name": "stderr"
        },
        {
          "output_type": "stream",
          "text": [
            "final_image.shape :  (720, 1280, 3)\n",
            "Result:  : ripe - prodb: [9.996131e-01 3.868662e-04] -elapsed time: 0.003634929656982422  s\n",
            "Result:  : ripe - prodb: [9.9968219e-01 3.1787955e-04] -elapsed time: 0.0057468414306640625  s\n",
            "Result:  : ripe - prodb: [9.9974293e-01 2.5705888e-04] -elapsed time: 0.006639719009399414  s\n"
          ],
          "name": "stdout"
        },
        {
          "output_type": "stream",
          "text": [
            "\r 99%|█████████▊| 149/151 [00:39<00:00,  3.64it/s]"
          ],
          "name": "stderr"
        },
        {
          "output_type": "stream",
          "text": [
            "final_image.shape :  (720, 1280, 3)\n",
            "Result:  : ripe - prodb: [9.9963355e-01 3.6639773e-04] -elapsed time: 0.003920078277587891  s\n",
            "Result:  : ripe - prodb: [9.9978191e-01 2.1805505e-04] -elapsed time: 0.0036096572875976562  s\n",
            "Result:  : ripe - prodb: [9.9980408e-01 1.9597552e-04] -elapsed time: 0.0037572383880615234  s\n",
            "Result:  : ripe - prodb: [0.9987608  0.00123916] -elapsed time: 0.003735065460205078  s\n"
          ],
          "name": "stdout"
        },
        {
          "output_type": "stream",
          "text": [
            "\r 99%|█████████▉| 150/151 [00:39<00:00,  3.58it/s]"
          ],
          "name": "stderr"
        },
        {
          "output_type": "stream",
          "text": [
            "final_image.shape :  (720, 1280, 3)\n",
            "Result:  : ripe - prodb: [9.9959570e-01 4.0428413e-04] -elapsed time: 0.00413966178894043  s\n",
            "Result:  : ripe - prodb: [9.9983537e-01 1.6458468e-04] -elapsed time: 0.003519296646118164  s\n"
          ],
          "name": "stdout"
        },
        {
          "output_type": "stream",
          "text": [
            "\n"
          ],
          "name": "stderr"
        },
        {
          "output_type": "stream",
          "text": [
            "[MoviePy] Done.\n",
            "[MoviePy] >>>> Video ready: /content/gdrive/My Drive/output_clip_4.mp4 \n",
            "\n"
          ],
          "name": "stdout"
        }
      ]
    },
    {
      "cell_type": "code",
      "metadata": {
        "id": "bP1wtDZNqlnz",
        "colab_type": "code",
        "colab": {}
      },
      "source": [
        ""
      ],
      "execution_count": 0,
      "outputs": []
    }
  ]
}